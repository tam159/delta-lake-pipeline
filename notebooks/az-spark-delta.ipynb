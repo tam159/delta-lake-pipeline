{
  "nbformat": 4,
  "nbformat_minor": 2,
  "metadata": {
    "kernelspec": {
      "name": "synapse_pyspark",
      "display_name": "Synapse PySpark"
    },
    "language_info": {
      "name": "python"
    },
    "save_output": true,
    "synapse_widget": {
      "version": "0.1",
      "state": {
        "c39a53c8-17df-44bf-9363-0aba62be1876": {
          "type": "Synapse.DataFrame",
          "sync_state": {
            "table": {
              "rows": [
                {
                  "0": "771",
                  "1": "Mountain-100 Silver, 38",
                  "2": "Mountain Bikes",
                  "3": "3399.9900"
                },
                {
                  "0": "772",
                  "1": "Mountain-100 Silver, 42",
                  "2": "Mountain Bikes",
                  "3": "3399.9900"
                },
                {
                  "0": "773",
                  "1": "Mountain-100 Silver, 44",
                  "2": "Mountain Bikes",
                  "3": "3399.9900"
                },
                {
                  "0": "774",
                  "1": "Mountain-100 Silver, 48",
                  "2": "Mountain Bikes",
                  "3": "3399.9900"
                },
                {
                  "0": "775",
                  "1": "Mountain-100 Black, 38",
                  "2": "Mountain Bikes",
                  "3": "3374.9900"
                },
                {
                  "0": "776",
                  "1": "Mountain-100 Black, 42",
                  "2": "Mountain Bikes",
                  "3": "3374.9900"
                },
                {
                  "0": "777",
                  "1": "Mountain-100 Black, 44",
                  "2": "Mountain Bikes",
                  "3": "3374.9900"
                },
                {
                  "0": "778",
                  "1": "Mountain-100 Black, 48",
                  "2": "Mountain Bikes",
                  "3": "3374.9900"
                },
                {
                  "0": "779",
                  "1": "Mountain-200 Silver, 38",
                  "2": "Mountain Bikes",
                  "3": "2319.9900"
                },
                {
                  "0": "780",
                  "1": "Mountain-200 Silver, 42",
                  "2": "Mountain Bikes",
                  "3": "2319.9900"
                }
              ],
              "schema": [
                {
                  "key": "0",
                  "name": "ProductID",
                  "type": "string"
                },
                {
                  "key": "1",
                  "name": "ProductName",
                  "type": "string"
                },
                {
                  "key": "2",
                  "name": "Category",
                  "type": "string"
                },
                {
                  "key": "3",
                  "name": "ListPrice",
                  "type": "string"
                }
              ],
              "truncated": false
            },
            "isSummary": false,
            "language": "scala"
          },
          "persist_state": {
            "view": {
              "type": "details",
              "tableOptions": {},
              "chartOptions": {
                "chartType": "bar",
                "aggregationType": "count",
                "categoryFieldKeys": [
                  "0"
                ],
                "seriesFieldKeys": [
                  "0"
                ],
                "isStacked": false
              }
            }
          }
        },
        "a0716cc7-6280-4648-b139-eb273f99403a": {
          "type": "Synapse.DataFrame",
          "sync_state": {
            "table": {
              "rows": [
                {
                  "0": "771",
                  "1": "Mountain-100 Silver, 38",
                  "2": "Mountain Bikes",
                  "3": "3059.991"
                },
                {
                  "0": "772",
                  "1": "Mountain-100 Silver, 42",
                  "2": "Mountain Bikes",
                  "3": "3399.9900"
                },
                {
                  "0": "773",
                  "1": "Mountain-100 Silver, 44",
                  "2": "Mountain Bikes",
                  "3": "3399.9900"
                },
                {
                  "0": "774",
                  "1": "Mountain-100 Silver, 48",
                  "2": "Mountain Bikes",
                  "3": "3399.9900"
                },
                {
                  "0": "775",
                  "1": "Mountain-100 Black, 38",
                  "2": "Mountain Bikes",
                  "3": "3374.9900"
                },
                {
                  "0": "776",
                  "1": "Mountain-100 Black, 42",
                  "2": "Mountain Bikes",
                  "3": "3374.9900"
                },
                {
                  "0": "777",
                  "1": "Mountain-100 Black, 44",
                  "2": "Mountain Bikes",
                  "3": "3374.9900"
                },
                {
                  "0": "778",
                  "1": "Mountain-100 Black, 48",
                  "2": "Mountain Bikes",
                  "3": "3374.9900"
                },
                {
                  "0": "779",
                  "1": "Mountain-200 Silver, 38",
                  "2": "Mountain Bikes",
                  "3": "2319.9900"
                },
                {
                  "0": "780",
                  "1": "Mountain-200 Silver, 42",
                  "2": "Mountain Bikes",
                  "3": "2319.9900"
                }
              ],
              "schema": [
                {
                  "key": "0",
                  "name": "ProductID",
                  "type": "string"
                },
                {
                  "key": "1",
                  "name": "ProductName",
                  "type": "string"
                },
                {
                  "key": "2",
                  "name": "Category",
                  "type": "string"
                },
                {
                  "key": "3",
                  "name": "ListPrice",
                  "type": "string"
                }
              ],
              "truncated": false
            },
            "isSummary": false,
            "language": "scala"
          },
          "persist_state": {
            "view": {
              "type": "details",
              "tableOptions": {},
              "chartOptions": {
                "chartType": "bar",
                "aggregationType": "count",
                "categoryFieldKeys": [
                  "0"
                ],
                "seriesFieldKeys": [
                  "0"
                ],
                "isStacked": false
              }
            }
          }
        },
        "7c4cdfcc-f948-46a1-a873-3a555c1ee84f": {
          "type": "Synapse.DataFrame",
          "sync_state": {
            "table": {
              "rows": [
                {
                  "0": "Dev1",
                  "1": "ok"
                },
                {
                  "0": "Dev1",
                  "1": "ok"
                },
                {
                  "0": "Dev1",
                  "1": "ok"
                },
                {
                  "0": "Dev2",
                  "1": "error"
                },
                {
                  "0": "Dev1",
                  "1": "ok"
                },
                {
                  "0": "Dev1",
                  "1": "error"
                },
                {
                  "0": "Dev2",
                  "1": "ok"
                },
                {
                  "0": "Dev2",
                  "1": "error"
                },
                {
                  "0": "Dev1",
                  "1": "ok"
                }
              ],
              "schema": [
                {
                  "key": "0",
                  "name": "device",
                  "type": "string"
                },
                {
                  "key": "1",
                  "name": "status",
                  "type": "string"
                }
              ],
              "truncated": false
            },
            "isSummary": false,
            "language": "scala"
          },
          "persist_state": {
            "view": {
              "type": "details",
              "tableOptions": {},
              "chartOptions": {
                "chartType": "bar",
                "aggregationType": "count",
                "categoryFieldKeys": [
                  "0"
                ],
                "seriesFieldKeys": [
                  "0"
                ],
                "isStacked": false
              }
            }
          }
        }
      }
    }
  },
  "cells": [
    {
      "cell_type": "code",
      "execution_count": 2,
      "outputs": [
        {
          "output_type": "display_data",
          "data": {
            "application/vnd.livy.statement-meta+json": {
              "spark_pool": "sparkmwdvy04",
              "statement_id": 3,
              "statement_ids": [
                3
              ],
              "state": "finished",
              "livy_statement_state": "available",
              "spark_jobs": null,
              "session_id": "0",
              "normalized_state": "finished",
              "queued_time": "2024-08-25T05:22:40.0030851Z",
              "session_start_time": null,
              "execution_start_time": "2024-08-25T05:22:40.1635521Z",
              "execution_finish_time": "2024-08-25T05:22:42.1332361Z",
              "parent_msg_id": "66252d59-8390-41c0-9962-2f27f6e0f494"
            },
            "text/plain": "StatementMeta(sparkmwdvy04, 0, 3, Finished, Available, Finished)"
          },
          "metadata": {}
        },
        {
          "output_type": "display_data",
          "data": {
            "application/vnd.synapse.widget-view+json": {
              "widget_id": "c39a53c8-17df-44bf-9363-0aba62be1876",
              "widget_type": "Synapse.DataFrame"
            },
            "text/plain": "SynapseWidget(Synapse.DataFrame, c39a53c8-17df-44bf-9363-0aba62be1876)"
          },
          "metadata": {}
        }
      ],
      "metadata": {
        "collapsed": false
      },
      "source": [
        "%%pyspark\n",
        "df = spark.read.load('abfss://files@datalakemwdvy04.dfs.core.windows.net/products/products.csv', format='csv'\n",
        "# If header exists uncomment line below\n",
        ", header=True\n",
        ")\n",
        "display(df.limit(10))"
      ]
    },
    {
      "cell_type": "code",
      "execution_count": 3,
      "outputs": [
        {
          "output_type": "display_data",
          "data": {
            "application/vnd.livy.statement-meta+json": {
              "spark_pool": "sparkmwdvy04",
              "statement_id": 4,
              "statement_ids": [
                4
              ],
              "state": "finished",
              "livy_statement_state": "available",
              "spark_jobs": null,
              "session_id": "0",
              "normalized_state": "finished",
              "queued_time": "2024-08-25T05:22:50.628845Z",
              "session_start_time": null,
              "execution_start_time": "2024-08-25T05:22:50.8118332Z",
              "execution_finish_time": "2024-08-25T05:23:07.893684Z",
              "parent_msg_id": "7b0fd1d7-2b8a-464c-aacb-fb4db959df62"
            },
            "text/plain": "StatementMeta(sparkmwdvy04, 0, 4, Finished, Available, Finished)"
          },
          "metadata": {}
        }
      ],
      "metadata": {
        "jupyter": {
          "source_hidden": false,
          "outputs_hidden": false
        },
        "nteract": {
          "transient": {
            "deleting": false
          }
        }
      },
      "source": [
        " delta_table_path = \"/delta/products-delta\"\n",
        " df.write.format(\"delta\").save(delta_table_path)"
      ]
    },
    {
      "cell_type": "code",
      "execution_count": 4,
      "outputs": [
        {
          "output_type": "display_data",
          "data": {
            "application/vnd.livy.statement-meta+json": {
              "spark_pool": "sparkmwdvy04",
              "statement_id": 5,
              "statement_ids": [
                5
              ],
              "state": "finished",
              "livy_statement_state": "available",
              "spark_jobs": null,
              "session_id": "0",
              "normalized_state": "finished",
              "queued_time": "2024-08-25T05:23:39.465665Z",
              "session_start_time": null,
              "execution_start_time": "2024-08-25T05:23:39.6170084Z",
              "execution_finish_time": "2024-08-25T05:23:54.7183161Z",
              "parent_msg_id": "e470a871-6ec8-47bb-bed5-0624d9b28055"
            },
            "text/plain": "StatementMeta(sparkmwdvy04, 0, 5, Finished, Available, Finished)"
          },
          "metadata": {}
        },
        {
          "output_type": "stream",
          "name": "stdout",
          "text": [
            "+---------+--------------------+--------------+---------+\n|ProductID|         ProductName|      Category|ListPrice|\n+---------+--------------------+--------------+---------+\n|      771|Mountain-100 Silv...|Mountain Bikes| 3059.991|\n|      772|Mountain-100 Silv...|Mountain Bikes|3399.9900|\n|      773|Mountain-100 Silv...|Mountain Bikes|3399.9900|\n|      774|Mountain-100 Silv...|Mountain Bikes|3399.9900|\n|      775|Mountain-100 Blac...|Mountain Bikes|3374.9900|\n|      776|Mountain-100 Blac...|Mountain Bikes|3374.9900|\n|      777|Mountain-100 Blac...|Mountain Bikes|3374.9900|\n|      778|Mountain-100 Blac...|Mountain Bikes|3374.9900|\n|      779|Mountain-200 Silv...|Mountain Bikes|2319.9900|\n|      780|Mountain-200 Silv...|Mountain Bikes|2319.9900|\n+---------+--------------------+--------------+---------+\nonly showing top 10 rows\n\n"
          ]
        }
      ],
      "metadata": {
        "jupyter": {
          "source_hidden": false,
          "outputs_hidden": false
        },
        "nteract": {
          "transient": {
            "deleting": false
          }
        }
      },
      "source": [
        " from delta.tables import *\n",
        " from pyspark.sql.functions import *\n",
        "\n",
        " # Create a deltaTable object\n",
        " deltaTable = DeltaTable.forPath(spark, delta_table_path)\n",
        "\n",
        " # Update the table (reduce price of product 771 by 10%)\n",
        " deltaTable.update(\n",
        "     condition = \"ProductID == 771\",\n",
        "     set = { \"ListPrice\": \"ListPrice * 0.9\" })\n",
        "\n",
        " # View the updated data as a dataframe\n",
        " deltaTable.toDF().show(10)"
      ]
    },
    {
      "cell_type": "code",
      "execution_count": 5,
      "outputs": [
        {
          "output_type": "display_data",
          "data": {
            "application/vnd.livy.statement-meta+json": {
              "spark_pool": "sparkmwdvy04",
              "statement_id": 6,
              "statement_ids": [
                6
              ],
              "state": "finished",
              "livy_statement_state": "available",
              "spark_jobs": null,
              "session_id": "0",
              "normalized_state": "finished",
              "queued_time": "2024-08-25T05:24:00.2896969Z",
              "session_start_time": null,
              "execution_start_time": "2024-08-25T05:24:00.4504694Z",
              "execution_finish_time": "2024-08-25T05:24:02.381291Z",
              "parent_msg_id": "e631148c-5be9-4fe9-be06-ec77d523c2a1"
            },
            "text/plain": "StatementMeta(sparkmwdvy04, 0, 6, Finished, Available, Finished)"
          },
          "metadata": {}
        },
        {
          "output_type": "stream",
          "name": "stdout",
          "text": [
            "+---------+--------------------+--------------+---------+\n|ProductID|         ProductName|      Category|ListPrice|\n+---------+--------------------+--------------+---------+\n|      771|Mountain-100 Silv...|Mountain Bikes| 3059.991|\n|      772|Mountain-100 Silv...|Mountain Bikes|3399.9900|\n|      773|Mountain-100 Silv...|Mountain Bikes|3399.9900|\n|      774|Mountain-100 Silv...|Mountain Bikes|3399.9900|\n|      775|Mountain-100 Blac...|Mountain Bikes|3374.9900|\n|      776|Mountain-100 Blac...|Mountain Bikes|3374.9900|\n|      777|Mountain-100 Blac...|Mountain Bikes|3374.9900|\n|      778|Mountain-100 Blac...|Mountain Bikes|3374.9900|\n|      779|Mountain-200 Silv...|Mountain Bikes|2319.9900|\n|      780|Mountain-200 Silv...|Mountain Bikes|2319.9900|\n+---------+--------------------+--------------+---------+\nonly showing top 10 rows\n\n"
          ]
        }
      ],
      "metadata": {
        "jupyter": {
          "source_hidden": false,
          "outputs_hidden": false
        },
        "nteract": {
          "transient": {
            "deleting": false
          }
        }
      },
      "source": [
        " new_df = spark.read.format(\"delta\").load(delta_table_path)\n",
        " new_df.show(10)"
      ]
    },
    {
      "cell_type": "code",
      "execution_count": 6,
      "outputs": [
        {
          "output_type": "display_data",
          "data": {
            "application/vnd.livy.statement-meta+json": {
              "spark_pool": "sparkmwdvy04",
              "statement_id": 7,
              "statement_ids": [
                7
              ],
              "state": "finished",
              "livy_statement_state": "available",
              "spark_jobs": null,
              "session_id": "0",
              "normalized_state": "finished",
              "queued_time": "2024-08-25T05:24:18.2838504Z",
              "session_start_time": null,
              "execution_start_time": "2024-08-25T05:24:18.4761794Z",
              "execution_finish_time": "2024-08-25T05:24:19.9073274Z",
              "parent_msg_id": "0b2a3f74-793c-4f03-8afb-7fa850006038"
            },
            "text/plain": "StatementMeta(sparkmwdvy04, 0, 7, Finished, Available, Finished)"
          },
          "metadata": {}
        },
        {
          "output_type": "display_data",
          "data": {
            "application/vnd.synapse.widget-view+json": {
              "widget_id": "a0716cc7-6280-4648-b139-eb273f99403a",
              "widget_type": "Synapse.DataFrame"
            },
            "text/plain": "SynapseWidget(Synapse.DataFrame, a0716cc7-6280-4648-b139-eb273f99403a)"
          },
          "metadata": {}
        }
      ],
      "metadata": {
        "jupyter": {
          "source_hidden": false,
          "outputs_hidden": false
        },
        "nteract": {
          "transient": {
            "deleting": false
          }
        },
        "collapsed": false
      },
      "source": [
        "display(new_df.limit(10))"
      ]
    },
    {
      "cell_type": "code",
      "execution_count": 7,
      "outputs": [
        {
          "output_type": "display_data",
          "data": {
            "application/vnd.livy.statement-meta+json": {
              "spark_pool": "sparkmwdvy04",
              "statement_id": 8,
              "statement_ids": [
                8
              ],
              "state": "finished",
              "livy_statement_state": "available",
              "spark_jobs": null,
              "session_id": "0",
              "normalized_state": "finished",
              "queued_time": "2024-08-25T05:25:09.2556465Z",
              "session_start_time": null,
              "execution_start_time": "2024-08-25T05:25:09.4736813Z",
              "execution_finish_time": "2024-08-25T05:25:13.6331371Z",
              "parent_msg_id": "bbb078fb-be40-4fa2-a086-94ce1ea4772d"
            },
            "text/plain": "StatementMeta(sparkmwdvy04, 0, 8, Finished, Available, Finished)"
          },
          "metadata": {}
        },
        {
          "output_type": "stream",
          "name": "stdout",
          "text": [
            "+---------+--------------------+--------------+---------+\n|ProductID|         ProductName|      Category|ListPrice|\n+---------+--------------------+--------------+---------+\n|      771|Mountain-100 Silv...|Mountain Bikes|3399.9900|\n|      772|Mountain-100 Silv...|Mountain Bikes|3399.9900|\n|      773|Mountain-100 Silv...|Mountain Bikes|3399.9900|\n|      774|Mountain-100 Silv...|Mountain Bikes|3399.9900|\n|      775|Mountain-100 Blac...|Mountain Bikes|3374.9900|\n|      776|Mountain-100 Blac...|Mountain Bikes|3374.9900|\n|      777|Mountain-100 Blac...|Mountain Bikes|3374.9900|\n|      778|Mountain-100 Blac...|Mountain Bikes|3374.9900|\n|      779|Mountain-200 Silv...|Mountain Bikes|2319.9900|\n|      780|Mountain-200 Silv...|Mountain Bikes|2319.9900|\n+---------+--------------------+--------------+---------+\nonly showing top 10 rows\n\n"
          ]
        }
      ],
      "metadata": {
        "jupyter": {
          "source_hidden": false,
          "outputs_hidden": false
        },
        "nteract": {
          "transient": {
            "deleting": false
          }
        }
      },
      "source": [
        " new_df = spark.read.format(\"delta\").option(\"versionAsOf\", 0).load(delta_table_path)\n",
        " new_df.show(10)"
      ]
    },
    {
      "cell_type": "code",
      "execution_count": 8,
      "outputs": [
        {
          "output_type": "display_data",
          "data": {
            "application/vnd.livy.statement-meta+json": {
              "spark_pool": "sparkmwdvy04",
              "statement_id": 9,
              "statement_ids": [
                9
              ],
              "state": "finished",
              "livy_statement_state": "available",
              "spark_jobs": null,
              "session_id": "0",
              "normalized_state": "finished",
              "queued_time": "2024-08-25T05:25:21.3385122Z",
              "session_start_time": null,
              "execution_start_time": "2024-08-25T05:25:21.5337709Z",
              "execution_finish_time": "2024-08-25T05:25:23.4790615Z",
              "parent_msg_id": "48f78933-e94f-4484-8418-11363f2ae763"
            },
            "text/plain": "StatementMeta(sparkmwdvy04, 0, 9, Finished, Available, Finished)"
          },
          "metadata": {}
        },
        {
          "output_type": "stream",
          "name": "stdout",
          "text": [
            "-RECORD 0------------------------------------------------------------------------------------------------------------------------------------------------------------------------\n version             | 1                                                                                                                                                         \n timestamp           | 2024-08-25 05:23:48                                                                                                                                       \n userId              | null                                                                                                                                                      \n userName            | null                                                                                                                                                      \n operation           | UPDATE                                                                                                                                                    \n operationParameters | {predicate -> (cast(ProductID#323 as int) = 771)}                                                                                                         \n job                 | null                                                                                                                                                      \n notebook            | null                                                                                                                                                      \n clusterId           | null                                                                                                                                                      \n readVersion         | 0                                                                                                                                                         \n isolationLevel      | null                                                                                                                                                      \n isBlindAppend       | false                                                                                                                                                     \n operationMetrics    | {numRemovedFiles -> 1, numCopiedRows -> 294, executionTimeMs -> 7679, scanTimeMs -> 5296, numAddedFiles -> 1, numUpdatedRows -> 1, rewriteTimeMs -> 2383} \n userMetadata        | null                                                                                                                                                      \n-RECORD 1------------------------------------------------------------------------------------------------------------------------------------------------------------------------\n version             | 0                                                                                                                                                         \n timestamp           | 2024-08-25 05:22:53                                                                                                                                       \n userId              | null                                                                                                                                                      \n userName            | null                                                                                                                                                      \n operation           | WRITE                                                                                                                                                     \n operationParameters | {mode -> ErrorIfExists, partitionBy -> []}                                                                                                                \n job                 | null                                                                                                                                                      \n notebook            | null                                                                                                                                                      \n clusterId           | null                                                                                                                                                      \n readVersion         | null                                                                                                                                                      \n isolationLevel      | null                                                                                                                                                      \n isBlindAppend       | true                                                                                                                                                      \n operationMetrics    | {numFiles -> 1, numOutputBytes -> 6046, numOutputRows -> 295}                                                                                             \n userMetadata        | null                                                                                                                                                      \n\n"
          ]
        }
      ],
      "metadata": {
        "jupyter": {
          "source_hidden": false,
          "outputs_hidden": false
        },
        "nteract": {
          "transient": {
            "deleting": false
          }
        }
      },
      "source": [
        " deltaTable.history(10).show(20, False, True)"
      ]
    },
    {
      "cell_type": "code",
      "execution_count": 9,
      "outputs": [
        {
          "output_type": "display_data",
          "data": {
            "application/vnd.livy.statement-meta+json": {
              "spark_pool": "sparkmwdvy04",
              "statement_id": 10,
              "statement_ids": [
                10
              ],
              "state": "finished",
              "livy_statement_state": "available",
              "spark_jobs": null,
              "session_id": "0",
              "normalized_state": "finished",
              "queued_time": "2024-08-25T05:26:28.0130388Z",
              "session_start_time": null,
              "execution_start_time": "2024-08-25T05:26:28.2048739Z",
              "execution_finish_time": "2024-08-25T05:26:43.2254235Z",
              "parent_msg_id": "48f8e747-0ebb-4a9e-a488-b8ef5a85764c"
            },
            "text/plain": "StatementMeta(sparkmwdvy04, 0, 10, Finished, Available, Finished)"
          },
          "metadata": {}
        },
        {
          "output_type": "stream",
          "name": "stdout",
          "text": [
            "+----------------------------+-----------------------------------------------------------------------+-------+\n|col_name                    |data_type                                                              |comment|\n+----------------------------+-----------------------------------------------------------------------+-------+\n|ProductID                   |string                                                                 |       |\n|ProductName                 |string                                                                 |       |\n|Category                    |string                                                                 |       |\n|ListPrice                   |string                                                                 |       |\n|                            |                                                                       |       |\n|# Partitioning              |                                                                       |       |\n|Not partitioned             |                                                                       |       |\n|                            |                                                                       |       |\n|# Detailed Table Information|                                                                       |       |\n|Name                        |adventureworks.productsexternal                                        |       |\n|Location                    |abfss://files@datalakemwdvy04.dfs.core.windows.net/delta/products-delta|       |\n|Provider                    |delta                                                                  |       |\n|Table Properties            |[Type=EXTERNAL,delta.minReaderVersion=1,delta.minWriterVersion=2]      |       |\n+----------------------------+-----------------------------------------------------------------------+-------+\n\n"
          ]
        }
      ],
      "metadata": {
        "jupyter": {
          "source_hidden": false,
          "outputs_hidden": false
        },
        "nteract": {
          "transient": {
            "deleting": false
          }
        }
      },
      "source": [
        " spark.sql(\"CREATE DATABASE AdventureWorks\")\n",
        " spark.sql(\"CREATE TABLE AdventureWorks.ProductsExternal USING DELTA LOCATION '{0}'\".format(delta_table_path))\n",
        " spark.sql(\"DESCRIBE EXTENDED AdventureWorks.ProductsExternal\").show(truncate=False)"
      ]
    },
    {
      "cell_type": "code",
      "execution_count": 10,
      "outputs": [
        {
          "output_type": "display_data",
          "data": {
            "application/vnd.livy.statement-meta+json": {
              "spark_pool": "sparkmwdvy04",
              "statement_id": 12,
              "statement_ids": [
                11,
                12
              ],
              "state": "finished",
              "livy_statement_state": "available",
              "spark_jobs": null,
              "session_id": "0",
              "normalized_state": "finished",
              "queued_time": "2024-08-25T05:27:00.8206442Z",
              "session_start_time": null,
              "execution_start_time": "2024-08-25T05:27:00.9583304Z",
              "execution_finish_time": "2024-08-25T05:27:04.0096032Z",
              "parent_msg_id": "193d4e8f-60a2-44d3-9852-10fac522084a"
            },
            "text/plain": "StatementMeta(sparkmwdvy04, 0, 12, Finished, Available, Finished)"
          },
          "metadata": {}
        },
        {
          "output_type": "execute_result",
          "data": {
            "application/vnd.synapse.sparksql-result+json": {
              "schema": {
                "type": "struct",
                "fields": []
              },
              "data": []
            },
            "text/plain": "<Spark SQL result set with 0 rows and 0 fields>"
          },
          "execution_count": 10,
          "metadata": {}
        },
        {
          "output_type": "execute_result",
          "data": {
            "application/vnd.synapse.sparksql-result+json": {
              "schema": {
                "type": "struct",
                "fields": [
                  {
                    "name": "ProductID",
                    "type": "string",
                    "nullable": true,
                    "metadata": {}
                  },
                  {
                    "name": "ProductName",
                    "type": "string",
                    "nullable": true,
                    "metadata": {}
                  },
                  {
                    "name": "Category",
                    "type": "string",
                    "nullable": true,
                    "metadata": {}
                  },
                  {
                    "name": "ListPrice",
                    "type": "string",
                    "nullable": true,
                    "metadata": {}
                  }
                ]
              },
              "data": [
                [
                  "771",
                  "Mountain-100 Silver, 38",
                  "Mountain Bikes",
                  "3059.991"
                ],
                [
                  "772",
                  "Mountain-100 Silver, 42",
                  "Mountain Bikes",
                  "3399.9900"
                ],
                [
                  "773",
                  "Mountain-100 Silver, 44",
                  "Mountain Bikes",
                  "3399.9900"
                ],
                [
                  "774",
                  "Mountain-100 Silver, 48",
                  "Mountain Bikes",
                  "3399.9900"
                ],
                [
                  "775",
                  "Mountain-100 Black, 38",
                  "Mountain Bikes",
                  "3374.9900"
                ],
                [
                  "776",
                  "Mountain-100 Black, 42",
                  "Mountain Bikes",
                  "3374.9900"
                ],
                [
                  "777",
                  "Mountain-100 Black, 44",
                  "Mountain Bikes",
                  "3374.9900"
                ],
                [
                  "778",
                  "Mountain-100 Black, 48",
                  "Mountain Bikes",
                  "3374.9900"
                ],
                [
                  "779",
                  "Mountain-200 Silver, 38",
                  "Mountain Bikes",
                  "2319.9900"
                ],
                [
                  "780",
                  "Mountain-200 Silver, 42",
                  "Mountain Bikes",
                  "2319.9900"
                ],
                [
                  "781",
                  "Mountain-200 Silver, 46",
                  "Mountain Bikes",
                  "2319.9900"
                ],
                [
                  "782",
                  "Mountain-200 Black, 38",
                  "Mountain Bikes",
                  "2294.9900"
                ],
                [
                  "783",
                  "Mountain-200 Black, 42",
                  "Mountain Bikes",
                  "2294.9900"
                ],
                [
                  "784",
                  "Mountain-200 Black, 46",
                  "Mountain Bikes",
                  "2294.9900"
                ],
                [
                  "785",
                  "Mountain-300 Black, 38",
                  "Mountain Bikes",
                  "1079.9900"
                ],
                [
                  "786",
                  "Mountain-300 Black, 40",
                  "Mountain Bikes",
                  "1079.9900"
                ],
                [
                  "787",
                  "Mountain-300 Black, 44",
                  "Mountain Bikes",
                  "1079.9900"
                ],
                [
                  "788",
                  "Mountain-300 Black, 48",
                  "Mountain Bikes",
                  "1079.9900"
                ],
                [
                  "980",
                  "Mountain-400-W Silver, 38",
                  "Mountain Bikes",
                  "769.4900"
                ],
                [
                  "981",
                  "Mountain-400-W Silver, 40",
                  "Mountain Bikes",
                  "769.4900"
                ],
                [
                  "982",
                  "Mountain-400-W Silver, 42",
                  "Mountain Bikes",
                  "769.4900"
                ],
                [
                  "983",
                  "Mountain-400-W Silver, 46",
                  "Mountain Bikes",
                  "769.4900"
                ],
                [
                  "984",
                  "Mountain-500 Silver, 40",
                  "Mountain Bikes",
                  "564.9900"
                ],
                [
                  "985",
                  "Mountain-500 Silver, 42",
                  "Mountain Bikes",
                  "564.9900"
                ],
                [
                  "986",
                  "Mountain-500 Silver, 44",
                  "Mountain Bikes",
                  "564.9900"
                ],
                [
                  "987",
                  "Mountain-500 Silver, 48",
                  "Mountain Bikes",
                  "564.9900"
                ],
                [
                  "988",
                  "Mountain-500 Silver, 52",
                  "Mountain Bikes",
                  "564.9900"
                ],
                [
                  "989",
                  "Mountain-500 Black, 40",
                  "Mountain Bikes",
                  "539.9900"
                ],
                [
                  "990",
                  "Mountain-500 Black, 42",
                  "Mountain Bikes",
                  "539.9900"
                ],
                [
                  "991",
                  "Mountain-500 Black, 44",
                  "Mountain Bikes",
                  "539.9900"
                ],
                [
                  "992",
                  "Mountain-500 Black, 48",
                  "Mountain Bikes",
                  "539.9900"
                ],
                [
                  "993",
                  "Mountain-500 Black, 52",
                  "Mountain Bikes",
                  "539.9900"
                ],
                [
                  "973",
                  "Road-350-W Yellow, 40",
                  "Road Bikes",
                  "1700.9900"
                ],
                [
                  "974",
                  "Road-350-W Yellow, 42",
                  "Road Bikes",
                  "1700.9900"
                ],
                [
                  "975",
                  "Road-350-W Yellow, 44",
                  "Road Bikes",
                  "1700.9900"
                ],
                [
                  "976",
                  "Road-350-W Yellow, 48",
                  "Road Bikes",
                  "1700.9900"
                ],
                [
                  "977",
                  "Road-750 Black, 58",
                  "Road Bikes",
                  "539.9900"
                ],
                [
                  "997",
                  "Road-750 Black, 44",
                  "Road Bikes",
                  "539.9900"
                ],
                [
                  "998",
                  "Road-750 Black, 48",
                  "Road Bikes",
                  "539.9900"
                ],
                [
                  "999",
                  "Road-750 Black, 52",
                  "Road Bikes",
                  "539.9900"
                ],
                [
                  "789",
                  "Road-250 Red, 44",
                  "Road Bikes",
                  "2443.3500"
                ],
                [
                  "790",
                  "Road-250 Red, 48",
                  "Road Bikes",
                  "2443.3500"
                ],
                [
                  "791",
                  "Road-250 Red, 52",
                  "Road Bikes",
                  "2443.3500"
                ],
                [
                  "792",
                  "Road-250 Red, 58",
                  "Road Bikes",
                  "2443.3500"
                ],
                [
                  "793",
                  "Road-250 Black, 44",
                  "Road Bikes",
                  "2443.3500"
                ],
                [
                  "794",
                  "Road-250 Black, 48",
                  "Road Bikes",
                  "2443.3500"
                ],
                [
                  "795",
                  "Road-250 Black, 52",
                  "Road Bikes",
                  "2443.3500"
                ],
                [
                  "796",
                  "Road-250 Black, 58",
                  "Road Bikes",
                  "2443.3500"
                ],
                [
                  "797",
                  "Road-550-W Yellow, 38",
                  "Road Bikes",
                  "1120.4900"
                ],
                [
                  "798",
                  "Road-550-W Yellow, 40",
                  "Road Bikes",
                  "1120.4900"
                ],
                [
                  "799",
                  "Road-550-W Yellow, 42",
                  "Road Bikes",
                  "1120.4900"
                ],
                [
                  "800",
                  "Road-550-W Yellow, 44",
                  "Road Bikes",
                  "1120.4900"
                ],
                [
                  "801",
                  "Road-550-W Yellow, 48",
                  "Road Bikes",
                  "1120.4900"
                ],
                [
                  "749",
                  "Road-150 Red, 62",
                  "Road Bikes",
                  "3578.2700"
                ],
                [
                  "750",
                  "Road-150 Red, 44",
                  "Road Bikes",
                  "3578.2700"
                ],
                [
                  "751",
                  "Road-150 Red, 48",
                  "Road Bikes",
                  "3578.2700"
                ],
                [
                  "752",
                  "Road-150 Red, 52",
                  "Road Bikes",
                  "3578.2700"
                ],
                [
                  "753",
                  "Road-150 Red, 56",
                  "Road Bikes",
                  "3578.2700"
                ],
                [
                  "754",
                  "Road-450 Red, 58",
                  "Road Bikes",
                  "1457.9900"
                ],
                [
                  "755",
                  "Road-450 Red, 60",
                  "Road Bikes",
                  "1457.9900"
                ],
                [
                  "756",
                  "Road-450 Red, 44",
                  "Road Bikes",
                  "1457.9900"
                ],
                [
                  "757",
                  "Road-450 Red, 48",
                  "Road Bikes",
                  "1457.9900"
                ],
                [
                  "758",
                  "Road-450 Red, 52",
                  "Road Bikes",
                  "1457.9900"
                ],
                [
                  "759",
                  "Road-650 Red, 58",
                  "Road Bikes",
                  "782.9900"
                ],
                [
                  "760",
                  "Road-650 Red, 60",
                  "Road Bikes",
                  "782.9900"
                ],
                [
                  "761",
                  "Road-650 Red, 62",
                  "Road Bikes",
                  "782.9900"
                ],
                [
                  "762",
                  "Road-650 Red, 44",
                  "Road Bikes",
                  "782.9900"
                ],
                [
                  "763",
                  "Road-650 Red, 48",
                  "Road Bikes",
                  "782.9900"
                ],
                [
                  "764",
                  "Road-650 Red, 52",
                  "Road Bikes",
                  "782.9900"
                ],
                [
                  "765",
                  "Road-650 Black, 58",
                  "Road Bikes",
                  "782.9900"
                ],
                [
                  "766",
                  "Road-650 Black, 60",
                  "Road Bikes",
                  "782.9900"
                ],
                [
                  "767",
                  "Road-650 Black, 62",
                  "Road Bikes",
                  "782.9900"
                ],
                [
                  "768",
                  "Road-650 Black, 44",
                  "Road Bikes",
                  "782.9900"
                ],
                [
                  "769",
                  "Road-650 Black, 48",
                  "Road Bikes",
                  "782.9900"
                ],
                [
                  "770",
                  "Road-650 Black, 52",
                  "Road Bikes",
                  "782.9900"
                ],
                [
                  "978",
                  "Touring-3000 Blue, 44",
                  "Touring Bikes",
                  "742.3500"
                ],
                [
                  "979",
                  "Touring-3000 Blue, 50",
                  "Touring Bikes",
                  "742.3500"
                ],
                [
                  "953",
                  "Touring-2000 Blue, 60",
                  "Touring Bikes",
                  "1214.8500"
                ],
                [
                  "954",
                  "Touring-1000 Yellow, 46",
                  "Touring Bikes",
                  "2384.0700"
                ],
                [
                  "955",
                  "Touring-1000 Yellow, 50",
                  "Touring Bikes",
                  "2384.0700"
                ],
                [
                  "956",
                  "Touring-1000 Yellow, 54",
                  "Touring Bikes",
                  "2384.0700"
                ],
                [
                  "957",
                  "Touring-1000 Yellow, 60",
                  "Touring Bikes",
                  "2384.0700"
                ],
                [
                  "958",
                  "Touring-3000 Blue, 54",
                  "Touring Bikes",
                  "742.3500"
                ],
                [
                  "959",
                  "Touring-3000 Blue, 58",
                  "Touring Bikes",
                  "742.3500"
                ],
                [
                  "960",
                  "Touring-3000 Blue, 62",
                  "Touring Bikes",
                  "742.3500"
                ],
                [
                  "961",
                  "Touring-3000 Yellow, 44",
                  "Touring Bikes",
                  "742.3500"
                ],
                [
                  "962",
                  "Touring-3000 Yellow, 50",
                  "Touring Bikes",
                  "742.3500"
                ],
                [
                  "963",
                  "Touring-3000 Yellow, 54",
                  "Touring Bikes",
                  "742.3500"
                ],
                [
                  "964",
                  "Touring-3000 Yellow, 58",
                  "Touring Bikes",
                  "742.3500"
                ],
                [
                  "965",
                  "Touring-3000 Yellow, 62",
                  "Touring Bikes",
                  "742.3500"
                ],
                [
                  "966",
                  "Touring-1000 Blue, 46",
                  "Touring Bikes",
                  "2384.0700"
                ],
                [
                  "967",
                  "Touring-1000 Blue, 50",
                  "Touring Bikes",
                  "2384.0700"
                ],
                [
                  "968",
                  "Touring-1000 Blue, 54",
                  "Touring Bikes",
                  "2384.0700"
                ],
                [
                  "969",
                  "Touring-1000 Blue, 60",
                  "Touring Bikes",
                  "2384.0700"
                ],
                [
                  "970",
                  "Touring-2000 Blue, 46",
                  "Touring Bikes",
                  "1214.8500"
                ],
                [
                  "971",
                  "Touring-2000 Blue, 50",
                  "Touring Bikes",
                  "1214.8500"
                ],
                [
                  "972",
                  "Touring-2000 Blue, 54",
                  "Touring Bikes",
                  "1214.8500"
                ],
                [
                  "946",
                  "LL Touring Handlebars",
                  "Handlebars",
                  "46.0900"
                ],
                [
                  "947",
                  "HL Touring Handlebars",
                  "Handlebars",
                  "91.5700"
                ],
                [
                  "808",
                  "LL Mountain Handlebars",
                  "Handlebars",
                  "44.5400"
                ],
                [
                  "809",
                  "ML Mountain Handlebars",
                  "Handlebars",
                  "61.9200"
                ],
                [
                  "810",
                  "HL Mountain Handlebars",
                  "Handlebars",
                  "120.2700"
                ],
                [
                  "811",
                  "LL Road Handlebars",
                  "Handlebars",
                  "44.5400"
                ],
                [
                  "812",
                  "ML Road Handlebars",
                  "Handlebars",
                  "61.9200"
                ],
                [
                  "813",
                  "HL Road Handlebars",
                  "Handlebars",
                  "120.2700"
                ],
                [
                  "994",
                  "LL Bottom Bracket",
                  "Bottom Brackets",
                  "53.9900"
                ],
                [
                  "995",
                  "ML Bottom Bracket",
                  "Bottom Brackets",
                  "101.2400"
                ],
                [
                  "996",
                  "HL Bottom Bracket",
                  "Bottom Brackets",
                  "121.4900"
                ],
                [
                  "948",
                  "Front Brakes",
                  "Brakes",
                  "106.5000"
                ],
                [
                  "907",
                  "Rear Brakes",
                  "Brakes",
                  "106.5000"
                ],
                [
                  "952",
                  "Chain",
                  "Chains",
                  "20.2400"
                ],
                [
                  "949",
                  "LL Crankset",
                  "Cranksets",
                  "175.4900"
                ],
                [
                  "950",
                  "ML Crankset",
                  "Cranksets",
                  "256.4900"
                ],
                [
                  "951",
                  "HL Crankset",
                  "Cranksets",
                  "404.9900"
                ],
                [
                  "945",
                  "Front Derailleur",
                  "Derailleurs",
                  "91.4900"
                ],
                [
                  "894",
                  "Rear Derailleur",
                  "Derailleurs",
                  "121.4600"
                ],
                [
                  "802",
                  "LL Fork",
                  "Forks",
                  "148.2200"
                ],
                [
                  "803",
                  "ML Fork",
                  "Forks",
                  "175.4900"
                ],
                [
                  "804",
                  "HL Fork",
                  "Forks",
                  "229.4900"
                ],
                [
                  "805",
                  "LL Headset",
                  "Headsets",
                  "34.2000"
                ],
                [
                  "806",
                  "ML Headset",
                  "Headsets",
                  "102.2900"
                ],
                [
                  "807",
                  "HL Headset",
                  "Headsets",
                  "124.7300"
                ],
                [
                  "739",
                  "HL Mountain Frame - Silver, 42",
                  "Mountain Frames",
                  "1364.5000"
                ],
                [
                  "740",
                  "HL Mountain Frame - Silver, 44",
                  "Mountain Frames",
                  "1364.5000"
                ],
                [
                  "741",
                  "HL Mountain Frame - Silver, 48",
                  "Mountain Frames",
                  "1364.5000"
                ],
                [
                  "742",
                  "HL Mountain Frame - Silver, 46",
                  "Mountain Frames",
                  "1364.5000"
                ],
                [
                  "743",
                  "HL Mountain Frame - Black, 42",
                  "Mountain Frames",
                  "1349.6000"
                ],
                [
                  "744",
                  "HL Mountain Frame - Black, 44",
                  "Mountain Frames",
                  "1349.6000"
                ],
                [
                  "745",
                  "HL Mountain Frame - Black, 48",
                  "Mountain Frames",
                  "1349.6000"
                ],
                [
                  "746",
                  "HL Mountain Frame - Black, 46",
                  "Mountain Frames",
                  "1349.6000"
                ],
                [
                  "747",
                  "HL Mountain Frame - Black, 38",
                  "Mountain Frames",
                  "1349.6000"
                ],
                [
                  "748",
                  "HL Mountain Frame - Silver, 38",
                  "Mountain Frames",
                  "1364.5000"
                ],
                [
                  "814",
                  "ML Mountain Frame - Black, 38",
                  "Mountain Frames",
                  "348.7600"
                ],
                [
                  "830",
                  "ML Mountain Frame - Black, 40",
                  "Mountain Frames",
                  "348.7600"
                ],
                [
                  "831",
                  "ML Mountain Frame - Black, 44",
                  "Mountain Frames",
                  "348.7600"
                ],
                [
                  "832",
                  "ML Mountain Frame - Black, 48",
                  "Mountain Frames",
                  "348.7600"
                ],
                [
                  "924",
                  "LL Mountain Frame - Black, 42",
                  "Mountain Frames",
                  "249.7900"
                ],
                [
                  "925",
                  "LL Mountain Frame - Black, 44",
                  "Mountain Frames",
                  "249.7900"
                ],
                [
                  "926",
                  "LL Mountain Frame - Black, 48",
                  "Mountain Frames",
                  "249.7900"
                ],
                [
                  "927",
                  "LL Mountain Frame - Black, 52",
                  "Mountain Frames",
                  "249.7900"
                ],
                [
                  "917",
                  "LL Mountain Frame - Silver, 42",
                  "Mountain Frames",
                  "264.0500"
                ],
                [
                  "918",
                  "LL Mountain Frame - Silver, 44",
                  "Mountain Frames",
                  "264.0500"
                ],
                [
                  "919",
                  "LL Mountain Frame - Silver, 48",
                  "Mountain Frames",
                  "264.0500"
                ],
                [
                  "920",
                  "LL Mountain Frame - Silver, 52",
                  "Mountain Frames",
                  "264.0500"
                ],
                [
                  "904",
                  "ML Mountain Frame-W - Silver, 40",
                  "Mountain Frames",
                  "364.0900"
                ],
                [
                  "905",
                  "ML Mountain Frame-W - Silver, 42",
                  "Mountain Frames",
                  "364.0900"
                ],
                [
                  "906",
                  "ML Mountain Frame-W - Silver, 46",
                  "Mountain Frames",
                  "364.0900"
                ],
                [
                  "942",
                  "ML Mountain Frame-W - Silver, 38",
                  "Mountain Frames",
                  "364.0900"
                ],
                [
                  "943",
                  "LL Mountain Frame - Black, 40",
                  "Mountain Frames",
                  "249.7900"
                ],
                [
                  "944",
                  "LL Mountain Frame - Silver, 40",
                  "Mountain Frames",
                  "264.0500"
                ],
                [
                  "935",
                  "LL Mountain Pedal",
                  "Pedals",
                  "40.4900"
                ],
                [
                  "936",
                  "ML Mountain Pedal",
                  "Pedals",
                  "62.0900"
                ],
                [
                  "937",
                  "HL Mountain Pedal",
                  "Pedals",
                  "80.9900"
                ],
                [
                  "938",
                  "LL Road Pedal",
                  "Pedals",
                  "40.4900"
                ],
                [
                  "939",
                  "ML Road Pedal",
                  "Pedals",
                  "62.0900"
                ],
                [
                  "940",
                  "HL Road Pedal",
                  "Pedals",
                  "80.9900"
                ],
                [
                  "941",
                  "Touring Pedal",
                  "Pedals",
                  "80.9900"
                ],
                [
                  "833",
                  "ML Road Frame-W - Yellow, 40",
                  "Road Frames",
                  "594.8300"
                ],
                [
                  "834",
                  "ML Road Frame-W - Yellow, 42",
                  "Road Frames",
                  "594.8300"
                ],
                [
                  "835",
                  "ML Road Frame-W - Yellow, 44",
                  "Road Frames",
                  "594.8300"
                ],
                [
                  "836",
                  "ML Road Frame-W - Yellow, 48",
                  "Road Frames",
                  "594.8300"
                ],
                [
                  "837",
                  "HL Road Frame - Black, 62",
                  "Road Frames",
                  "1431.5000"
                ],
                [
                  "838",
                  "HL Road Frame - Black, 44",
                  "Road Frames",
                  "1431.5000"
                ],
                [
                  "839",
                  "HL Road Frame - Black, 48",
                  "Road Frames",
                  "1431.5000"
                ],
                [
                  "840",
                  "HL Road Frame - Black, 52",
                  "Road Frames",
                  "1431.5000"
                ],
                [
                  "822",
                  "ML Road Frame-W - Yellow, 38",
                  "Road Frames",
                  "594.8300"
                ],
                [
                  "680",
                  "HL Road Frame - Black, 58",
                  "Road Frames",
                  "1431.5000"
                ],
                [
                  "706",
                  "HL Road Frame - Red, 58",
                  "Road Frames",
                  "1431.5000"
                ],
                [
                  "717",
                  "HL Road Frame - Red, 62",
                  "Road Frames",
                  "1431.5000"
                ],
                [
                  "718",
                  "HL Road Frame - Red, 44",
                  "Road Frames",
                  "1431.5000"
                ],
                [
                  "719",
                  "HL Road Frame - Red, 48",
                  "Road Frames",
                  "1431.5000"
                ],
                [
                  "720",
                  "HL Road Frame - Red, 52",
                  "Road Frames",
                  "1431.5000"
                ],
                [
                  "721",
                  "HL Road Frame - Red, 56",
                  "Road Frames",
                  "1431.5000"
                ],
                [
                  "722",
                  "LL Road Frame - Black, 58",
                  "Road Frames",
                  "337.2200"
                ],
                [
                  "723",
                  "LL Road Frame - Black, 60",
                  "Road Frames",
                  "337.2200"
                ],
                [
                  "724",
                  "LL Road Frame - Black, 62",
                  "Road Frames",
                  "337.2200"
                ],
                [
                  "725",
                  "LL Road Frame - Red, 44",
                  "Road Frames",
                  "337.2200"
                ],
                [
                  "726",
                  "LL Road Frame - Red, 48",
                  "Road Frames",
                  "337.2200"
                ],
                [
                  "727",
                  "LL Road Frame - Red, 52",
                  "Road Frames",
                  "337.2200"
                ],
                [
                  "728",
                  "LL Road Frame - Red, 58",
                  "Road Frames",
                  "337.2200"
                ],
                [
                  "729",
                  "LL Road Frame - Red, 60",
                  "Road Frames",
                  "337.2200"
                ],
                [
                  "730",
                  "LL Road Frame - Red, 62",
                  "Road Frames",
                  "337.2200"
                ],
                [
                  "731",
                  "ML Road Frame - Red, 44",
                  "Road Frames",
                  "594.8300"
                ],
                [
                  "732",
                  "ML Road Frame - Red, 48",
                  "Road Frames",
                  "594.8300"
                ],
                [
                  "733",
                  "ML Road Frame - Red, 52",
                  "Road Frames",
                  "594.8300"
                ],
                [
                  "734",
                  "ML Road Frame - Red, 58",
                  "Road Frames",
                  "594.8300"
                ],
                [
                  "735",
                  "ML Road Frame - Red, 60",
                  "Road Frames",
                  "594.8300"
                ],
                [
                  "736",
                  "LL Road Frame - Black, 44",
                  "Road Frames",
                  "337.2200"
                ],
                [
                  "737",
                  "LL Road Frame - Black, 48",
                  "Road Frames",
                  "337.2200"
                ],
                [
                  "738",
                  "LL Road Frame - Black, 52",
                  "Road Frames",
                  "337.2200"
                ],
                [
                  "908",
                  "LL Mountain Seat/Saddle",
                  "Saddles",
                  "27.1200"
                ],
                [
                  "909",
                  "ML Mountain Seat/Saddle",
                  "Saddles",
                  "39.1400"
                ],
                [
                  "910",
                  "HL Mountain Seat/Saddle",
                  "Saddles",
                  "52.6400"
                ],
                [
                  "911",
                  "LL Road Seat/Saddle",
                  "Saddles",
                  "27.1200"
                ],
                [
                  "912",
                  "ML Road Seat/Saddle",
                  "Saddles",
                  "39.1400"
                ],
                [
                  "913",
                  "HL Road Seat/Saddle",
                  "Saddles",
                  "52.6400"
                ],
                [
                  "914",
                  "LL Touring Seat/Saddle",
                  "Saddles",
                  "27.1200"
                ],
                [
                  "915",
                  "ML Touring Seat/Saddle",
                  "Saddles",
                  "39.1400"
                ],
                [
                  "916",
                  "HL Touring Seat/Saddle",
                  "Saddles",
                  "52.6400"
                ],
                [
                  "895",
                  "LL Touring Frame - Blue, 50",
                  "Touring Frames",
                  "333.4200"
                ],
                [
                  "896",
                  "LL Touring Frame - Blue, 54",
                  "Touring Frames",
                  "333.4200"
                ],
                [
                  "897",
                  "LL Touring Frame - Blue, 58",
                  "Touring Frames",
                  "333.4200"
                ],
                [
                  "898",
                  "LL Touring Frame - Blue, 62",
                  "Touring Frames",
                  "333.4200"
                ],
                [
                  "899",
                  "LL Touring Frame - Yellow, 44",
                  "Touring Frames",
                  "333.4200"
                ],
                [
                  "900",
                  "LL Touring Frame - Yellow, 50",
                  "Touring Frames",
                  "333.4200"
                ],
                [
                  "901",
                  "LL Touring Frame - Yellow, 54",
                  "Touring Frames",
                  "333.4200"
                ],
                [
                  "902",
                  "LL Touring Frame - Yellow, 58",
                  "Touring Frames",
                  "333.4200"
                ],
                [
                  "903",
                  "LL Touring Frame - Blue, 44",
                  "Touring Frames",
                  "333.4200"
                ],
                [
                  "885",
                  "HL Touring Frame - Yellow, 60",
                  "Touring Frames",
                  "1003.9100"
                ],
                [
                  "886",
                  "LL Touring Frame - Yellow, 62",
                  "Touring Frames",
                  "333.4200"
                ],
                [
                  "887",
                  "HL Touring Frame - Yellow, 46",
                  "Touring Frames",
                  "1003.9100"
                ],
                [
                  "888",
                  "HL Touring Frame - Yellow, 50",
                  "Touring Frames",
                  "1003.9100"
                ],
                [
                  "889",
                  "HL Touring Frame - Yellow, 54",
                  "Touring Frames",
                  "1003.9100"
                ],
                [
                  "890",
                  "HL Touring Frame - Blue, 46",
                  "Touring Frames",
                  "1003.9100"
                ],
                [
                  "891",
                  "HL Touring Frame - Blue, 50",
                  "Touring Frames",
                  "1003.9100"
                ],
                [
                  "892",
                  "HL Touring Frame - Blue, 54",
                  "Touring Frames",
                  "1003.9100"
                ],
                [
                  "893",
                  "HL Touring Frame - Blue, 60",
                  "Touring Frames",
                  "1003.9100"
                ],
                [
                  "823",
                  "LL Mountain Rear Wheel",
                  "Wheels",
                  "87.7450"
                ],
                [
                  "824",
                  "ML Mountain Rear Wheel",
                  "Wheels",
                  "236.0250"
                ],
                [
                  "825",
                  "HL Mountain Rear Wheel",
                  "Wheels",
                  "327.2150"
                ],
                [
                  "826",
                  "LL Road Rear Wheel",
                  "Wheels",
                  "112.5650"
                ],
                [
                  "827",
                  "ML Road Rear Wheel",
                  "Wheels",
                  "275.3850"
                ],
                [
                  "828",
                  "HL Road Rear Wheel",
                  "Wheels",
                  "357.0600"
                ],
                [
                  "829",
                  "Touring Rear Wheel",
                  "Wheels",
                  "245.0100"
                ],
                [
                  "815",
                  "LL Mountain Front Wheel",
                  "Wheels",
                  "60.7450"
                ],
                [
                  "816",
                  "ML Mountain Front Wheel",
                  "Wheels",
                  "209.0250"
                ],
                [
                  "817",
                  "HL Mountain Front Wheel",
                  "Wheels",
                  "300.2150"
                ],
                [
                  "818",
                  "LL Road Front Wheel",
                  "Wheels",
                  "85.5650"
                ],
                [
                  "819",
                  "ML Road Front Wheel",
                  "Wheels",
                  "248.3850"
                ],
                [
                  "820",
                  "HL Road Front Wheel",
                  "Wheels",
                  "330.0600"
                ],
                [
                  "821",
                  "Touring Front Wheel",
                  "Wheels",
                  "218.0100"
                ],
                [
                  "855",
                  "Men's Bib-Shorts, S",
                  "Bib-Shorts",
                  "89.9900"
                ],
                [
                  "856",
                  "Men's Bib-Shorts, M",
                  "Bib-Shorts",
                  "89.9900"
                ],
                [
                  "857",
                  "Men's Bib-Shorts, L",
                  "Bib-Shorts",
                  "89.9900"
                ],
                [
                  "712",
                  "AWC Logo Cap",
                  "Caps",
                  "8.9900"
                ],
                [
                  "858",
                  "Half-Finger Gloves, S",
                  "Gloves",
                  "24.4900"
                ],
                [
                  "859",
                  "Half-Finger Gloves, M",
                  "Gloves",
                  "24.4900"
                ],
                [
                  "860",
                  "Half-Finger Gloves, L",
                  "Gloves",
                  "24.4900"
                ],
                [
                  "861",
                  "Full-Finger Gloves, S",
                  "Gloves",
                  "37.9900"
                ],
                [
                  "862",
                  "Full-Finger Gloves, M",
                  "Gloves",
                  "37.9900"
                ],
                [
                  "863",
                  "Full-Finger Gloves, L",
                  "Gloves",
                  "37.9900"
                ],
                [
                  "713",
                  "Long-Sleeve Logo Jersey, S",
                  "Jerseys",
                  "49.9900"
                ],
                [
                  "714",
                  "Long-Sleeve Logo Jersey, M",
                  "Jerseys",
                  "49.9900"
                ],
                [
                  "715",
                  "Long-Sleeve Logo Jersey, L",
                  "Jerseys",
                  "49.9900"
                ],
                [
                  "716",
                  "Long-Sleeve Logo Jersey, XL",
                  "Jerseys",
                  "49.9900"
                ],
                [
                  "881",
                  "Short-Sleeve Classic Jersey, S",
                  "Jerseys",
                  "53.9900"
                ],
                [
                  "882",
                  "Short-Sleeve Classic Jersey, M",
                  "Jerseys",
                  "53.9900"
                ],
                [
                  "883",
                  "Short-Sleeve Classic Jersey, L",
                  "Jerseys",
                  "53.9900"
                ],
                [
                  "884",
                  "Short-Sleeve Classic Jersey, XL",
                  "Jerseys",
                  "53.9900"
                ],
                [
                  "867",
                  "Women's Mountain Shorts, S",
                  "Shorts",
                  "69.9900"
                ],
                [
                  "868",
                  "Women's Mountain Shorts, M",
                  "Shorts",
                  "69.9900"
                ],
                [
                  "869",
                  "Women's Mountain Shorts, L",
                  "Shorts",
                  "69.9900"
                ],
                [
                  "841",
                  "Men's Sports Shorts, S",
                  "Shorts",
                  "59.9900"
                ],
                [
                  "849",
                  "Men's Sports Shorts, M",
                  "Shorts",
                  "59.9900"
                ],
                [
                  "850",
                  "Men's Sports Shorts, L",
                  "Shorts",
                  "59.9900"
                ],
                [
                  "851",
                  "Men's Sports Shorts, XL",
                  "Shorts",
                  "59.9900"
                ],
                [
                  "709",
                  "Mountain Bike Socks, M",
                  "Socks",
                  "9.5000"
                ],
                [
                  "710",
                  "Mountain Bike Socks, L",
                  "Socks",
                  "9.5000"
                ],
                [
                  "874",
                  "Racing Socks, M",
                  "Socks",
                  "8.9900"
                ],
                [
                  "875",
                  "Racing Socks, L",
                  "Socks",
                  "8.9900"
                ],
                [
                  "852",
                  "Women's Tights, S",
                  "Tights",
                  "74.9900"
                ],
                [
                  "853",
                  "Women's Tights, M",
                  "Tights",
                  "74.9900"
                ],
                [
                  "854",
                  "Women's Tights, L",
                  "Tights",
                  "74.9900"
                ],
                [
                  "864",
                  "Classic Vest, S",
                  "Vests",
                  "63.5000"
                ],
                [
                  "865",
                  "Classic Vest, M",
                  "Vests",
                  "63.5000"
                ],
                [
                  "866",
                  "Classic Vest, L",
                  "Vests",
                  "63.5000"
                ],
                [
                  "876",
                  "Hitch Rack - 4-Bike",
                  "Bike Racks",
                  "120.0000"
                ],
                [
                  "879",
                  "All-Purpose Bike Stand",
                  "Bike Stands",
                  "159.0000"
                ],
                [
                  "870",
                  "Water Bottle - 30 oz.",
                  "Bottles and Cages",
                  "4.9900"
                ],
                [
                  "871",
                  "Mountain Bottle Cage",
                  "Bottles and Cages",
                  "9.9900"
                ],
                [
                  "872",
                  "Road Bottle Cage",
                  "Bottles and Cages",
                  "8.9900"
                ],
                [
                  "877",
                  "Bike Wash - Dissolver",
                  "Cleaners",
                  "7.9500"
                ],
                [
                  "878",
                  "Fender Set - Mountain",
                  "Fenders",
                  "21.9800"
                ],
                [
                  "711",
                  "Sport-100 Helmet, Blue",
                  "Helmets",
                  "34.9900"
                ],
                [
                  "707",
                  "Sport-100 Helmet, Red",
                  "Helmets",
                  "34.9900"
                ],
                [
                  "708",
                  "Sport-100 Helmet, Black",
                  "Helmets",
                  "34.9900"
                ],
                [
                  "880",
                  "Hydration Pack - 70 oz.",
                  "Hydration Packs",
                  "54.9900"
                ],
                [
                  "846",
                  "Taillights - Battery-Powered",
                  "Lights",
                  "13.9900"
                ],
                [
                  "847",
                  "Headlights - Dual-Beam",
                  "Lights",
                  "34.9900"
                ],
                [
                  "848",
                  "Headlights - Weatherproof",
                  "Lights",
                  "44.9900"
                ],
                [
                  "843",
                  "Cable Lock",
                  "Locks",
                  "25.0000"
                ],
                [
                  "842",
                  "Touring-Panniers, Large",
                  "Panniers",
                  "125.0000"
                ],
                [
                  "844",
                  "Minipump",
                  "Pumps",
                  "19.9900"
                ],
                [
                  "845",
                  "Mountain Pump",
                  "Pumps",
                  "24.9900"
                ],
                [
                  "873",
                  "Patch Kit/8 Patches",
                  "Tires and Tubes",
                  "2.2900"
                ],
                [
                  "921",
                  "Mountain Tire Tube",
                  "Tires and Tubes",
                  "4.9900"
                ],
                [
                  "922",
                  "Road Tire Tube",
                  "Tires and Tubes",
                  "3.9900"
                ],
                [
                  "923",
                  "Touring Tire Tube",
                  "Tires and Tubes",
                  "4.9900"
                ],
                [
                  "928",
                  "LL Mountain Tire",
                  "Tires and Tubes",
                  "24.9900"
                ],
                [
                  "929",
                  "ML Mountain Tire",
                  "Tires and Tubes",
                  "29.9900"
                ],
                [
                  "930",
                  "HL Mountain Tire",
                  "Tires and Tubes",
                  "35.0000"
                ],
                [
                  "931",
                  "LL Road Tire",
                  "Tires and Tubes",
                  "21.4900"
                ],
                [
                  "932",
                  "ML Road Tire",
                  "Tires and Tubes",
                  "24.9900"
                ],
                [
                  "933",
                  "HL Road Tire",
                  "Tires and Tubes",
                  "32.6000"
                ],
                [
                  "934",
                  "Touring Tire",
                  "Tires and Tubes",
                  "28.9900"
                ]
              ]
            },
            "text/plain": "<Spark SQL result set with 295 rows and 4 fields>"
          },
          "execution_count": 10,
          "metadata": {}
        }
      ],
      "metadata": {
        "jupyter": {
          "source_hidden": false,
          "outputs_hidden": false
        },
        "nteract": {
          "transient": {
            "deleting": false
          }
        },
        "collapsed": false
      },
      "source": [
        " %%sql\n",
        "\n",
        " USE AdventureWorks;\n",
        "\n",
        " SELECT * FROM ProductsExternal;"
      ]
    },
    {
      "cell_type": "code",
      "execution_count": 11,
      "outputs": [
        {
          "output_type": "display_data",
          "data": {
            "application/vnd.livy.statement-meta+json": {
              "spark_pool": "sparkmwdvy04",
              "statement_id": 13,
              "statement_ids": [
                13
              ],
              "state": "finished",
              "livy_statement_state": "available",
              "spark_jobs": null,
              "session_id": "0",
              "normalized_state": "finished",
              "queued_time": "2024-08-25T05:27:37.5988438Z",
              "session_start_time": null,
              "execution_start_time": "2024-08-25T05:27:37.777728Z",
              "execution_finish_time": "2024-08-25T05:27:43.3010616Z",
              "parent_msg_id": "0db0fdff-598b-48cf-9a07-cf6076fbb723"
            },
            "text/plain": "StatementMeta(sparkmwdvy04, 0, 13, Finished, Available, Finished)"
          },
          "metadata": {}
        },
        {
          "output_type": "stream",
          "name": "stdout",
          "text": [
            "+----------------------------+--------------------------------------------------------------------------------------------------------------------------------+-------+\n|col_name                    |data_type                                                                                                                       |comment|\n+----------------------------+--------------------------------------------------------------------------------------------------------------------------------+-------+\n|ProductID                   |string                                                                                                                          |       |\n|ProductName                 |string                                                                                                                          |       |\n|Category                    |string                                                                                                                          |       |\n|ListPrice                   |string                                                                                                                          |       |\n|                            |                                                                                                                                |       |\n|# Partitioning              |                                                                                                                                |       |\n|Not partitioned             |                                                                                                                                |       |\n|                            |                                                                                                                                |       |\n|# Detailed Table Information|                                                                                                                                |       |\n|Name                        |adventureworks.productsmanaged                                                                                                  |       |\n|Location                    |abfss://files@datalakemwdvy04.dfs.core.windows.net/synapse/workspaces/synapsemwdvy04/warehouse/adventureworks.db/productsmanaged|       |\n|Provider                    |delta                                                                                                                           |       |\n|Table Properties            |[Type=MANAGED,delta.minReaderVersion=1,delta.minWriterVersion=2]                                                                |       |\n+----------------------------+--------------------------------------------------------------------------------------------------------------------------------+-------+\n\n"
          ]
        }
      ],
      "metadata": {
        "jupyter": {
          "source_hidden": false,
          "outputs_hidden": false
        },
        "nteract": {
          "transient": {
            "deleting": false
          }
        }
      },
      "source": [
        " df.write.format(\"delta\").saveAsTable(\"AdventureWorks.ProductsManaged\")\n",
        " spark.sql(\"DESCRIBE EXTENDED AdventureWorks.ProductsManaged\").show(truncate=False)"
      ]
    },
    {
      "cell_type": "code",
      "execution_count": 12,
      "outputs": [
        {
          "output_type": "display_data",
          "data": {
            "application/vnd.livy.statement-meta+json": {
              "spark_pool": "sparkmwdvy04",
              "statement_id": 15,
              "statement_ids": [
                14,
                15
              ],
              "state": "finished",
              "livy_statement_state": "available",
              "spark_jobs": null,
              "session_id": "0",
              "normalized_state": "finished",
              "queued_time": "2024-08-25T05:28:49.9552419Z",
              "session_start_time": null,
              "execution_start_time": "2024-08-25T05:28:50.0918486Z",
              "execution_finish_time": "2024-08-25T05:28:52.1610698Z",
              "parent_msg_id": "060c771e-1386-4379-83b0-2fe34bbc56b4"
            },
            "text/plain": "StatementMeta(sparkmwdvy04, 0, 15, Finished, Available, Finished)"
          },
          "metadata": {}
        },
        {
          "output_type": "execute_result",
          "data": {
            "application/vnd.synapse.sparksql-result+json": {
              "schema": {
                "type": "struct",
                "fields": []
              },
              "data": []
            },
            "text/plain": "<Spark SQL result set with 0 rows and 0 fields>"
          },
          "execution_count": 12,
          "metadata": {}
        },
        {
          "output_type": "execute_result",
          "data": {
            "application/vnd.synapse.sparksql-result+json": {
              "schema": {
                "type": "struct",
                "fields": [
                  {
                    "name": "ProductID",
                    "type": "string",
                    "nullable": true,
                    "metadata": {}
                  },
                  {
                    "name": "ProductName",
                    "type": "string",
                    "nullable": true,
                    "metadata": {}
                  },
                  {
                    "name": "Category",
                    "type": "string",
                    "nullable": true,
                    "metadata": {}
                  },
                  {
                    "name": "ListPrice",
                    "type": "string",
                    "nullable": true,
                    "metadata": {}
                  }
                ]
              },
              "data": [
                [
                  "771",
                  "Mountain-100 Silver, 38",
                  "Mountain Bikes",
                  "3399.9900"
                ],
                [
                  "772",
                  "Mountain-100 Silver, 42",
                  "Mountain Bikes",
                  "3399.9900"
                ],
                [
                  "773",
                  "Mountain-100 Silver, 44",
                  "Mountain Bikes",
                  "3399.9900"
                ],
                [
                  "774",
                  "Mountain-100 Silver, 48",
                  "Mountain Bikes",
                  "3399.9900"
                ],
                [
                  "775",
                  "Mountain-100 Black, 38",
                  "Mountain Bikes",
                  "3374.9900"
                ],
                [
                  "776",
                  "Mountain-100 Black, 42",
                  "Mountain Bikes",
                  "3374.9900"
                ],
                [
                  "777",
                  "Mountain-100 Black, 44",
                  "Mountain Bikes",
                  "3374.9900"
                ],
                [
                  "778",
                  "Mountain-100 Black, 48",
                  "Mountain Bikes",
                  "3374.9900"
                ],
                [
                  "779",
                  "Mountain-200 Silver, 38",
                  "Mountain Bikes",
                  "2319.9900"
                ],
                [
                  "780",
                  "Mountain-200 Silver, 42",
                  "Mountain Bikes",
                  "2319.9900"
                ],
                [
                  "781",
                  "Mountain-200 Silver, 46",
                  "Mountain Bikes",
                  "2319.9900"
                ],
                [
                  "782",
                  "Mountain-200 Black, 38",
                  "Mountain Bikes",
                  "2294.9900"
                ],
                [
                  "783",
                  "Mountain-200 Black, 42",
                  "Mountain Bikes",
                  "2294.9900"
                ],
                [
                  "784",
                  "Mountain-200 Black, 46",
                  "Mountain Bikes",
                  "2294.9900"
                ],
                [
                  "785",
                  "Mountain-300 Black, 38",
                  "Mountain Bikes",
                  "1079.9900"
                ],
                [
                  "786",
                  "Mountain-300 Black, 40",
                  "Mountain Bikes",
                  "1079.9900"
                ],
                [
                  "787",
                  "Mountain-300 Black, 44",
                  "Mountain Bikes",
                  "1079.9900"
                ],
                [
                  "788",
                  "Mountain-300 Black, 48",
                  "Mountain Bikes",
                  "1079.9900"
                ],
                [
                  "980",
                  "Mountain-400-W Silver, 38",
                  "Mountain Bikes",
                  "769.4900"
                ],
                [
                  "981",
                  "Mountain-400-W Silver, 40",
                  "Mountain Bikes",
                  "769.4900"
                ],
                [
                  "982",
                  "Mountain-400-W Silver, 42",
                  "Mountain Bikes",
                  "769.4900"
                ],
                [
                  "983",
                  "Mountain-400-W Silver, 46",
                  "Mountain Bikes",
                  "769.4900"
                ],
                [
                  "984",
                  "Mountain-500 Silver, 40",
                  "Mountain Bikes",
                  "564.9900"
                ],
                [
                  "985",
                  "Mountain-500 Silver, 42",
                  "Mountain Bikes",
                  "564.9900"
                ],
                [
                  "986",
                  "Mountain-500 Silver, 44",
                  "Mountain Bikes",
                  "564.9900"
                ],
                [
                  "987",
                  "Mountain-500 Silver, 48",
                  "Mountain Bikes",
                  "564.9900"
                ],
                [
                  "988",
                  "Mountain-500 Silver, 52",
                  "Mountain Bikes",
                  "564.9900"
                ],
                [
                  "989",
                  "Mountain-500 Black, 40",
                  "Mountain Bikes",
                  "539.9900"
                ],
                [
                  "990",
                  "Mountain-500 Black, 42",
                  "Mountain Bikes",
                  "539.9900"
                ],
                [
                  "991",
                  "Mountain-500 Black, 44",
                  "Mountain Bikes",
                  "539.9900"
                ],
                [
                  "992",
                  "Mountain-500 Black, 48",
                  "Mountain Bikes",
                  "539.9900"
                ],
                [
                  "993",
                  "Mountain-500 Black, 52",
                  "Mountain Bikes",
                  "539.9900"
                ],
                [
                  "973",
                  "Road-350-W Yellow, 40",
                  "Road Bikes",
                  "1700.9900"
                ],
                [
                  "974",
                  "Road-350-W Yellow, 42",
                  "Road Bikes",
                  "1700.9900"
                ],
                [
                  "975",
                  "Road-350-W Yellow, 44",
                  "Road Bikes",
                  "1700.9900"
                ],
                [
                  "976",
                  "Road-350-W Yellow, 48",
                  "Road Bikes",
                  "1700.9900"
                ],
                [
                  "977",
                  "Road-750 Black, 58",
                  "Road Bikes",
                  "539.9900"
                ],
                [
                  "997",
                  "Road-750 Black, 44",
                  "Road Bikes",
                  "539.9900"
                ],
                [
                  "998",
                  "Road-750 Black, 48",
                  "Road Bikes",
                  "539.9900"
                ],
                [
                  "999",
                  "Road-750 Black, 52",
                  "Road Bikes",
                  "539.9900"
                ],
                [
                  "789",
                  "Road-250 Red, 44",
                  "Road Bikes",
                  "2443.3500"
                ],
                [
                  "790",
                  "Road-250 Red, 48",
                  "Road Bikes",
                  "2443.3500"
                ],
                [
                  "791",
                  "Road-250 Red, 52",
                  "Road Bikes",
                  "2443.3500"
                ],
                [
                  "792",
                  "Road-250 Red, 58",
                  "Road Bikes",
                  "2443.3500"
                ],
                [
                  "793",
                  "Road-250 Black, 44",
                  "Road Bikes",
                  "2443.3500"
                ],
                [
                  "794",
                  "Road-250 Black, 48",
                  "Road Bikes",
                  "2443.3500"
                ],
                [
                  "795",
                  "Road-250 Black, 52",
                  "Road Bikes",
                  "2443.3500"
                ],
                [
                  "796",
                  "Road-250 Black, 58",
                  "Road Bikes",
                  "2443.3500"
                ],
                [
                  "797",
                  "Road-550-W Yellow, 38",
                  "Road Bikes",
                  "1120.4900"
                ],
                [
                  "798",
                  "Road-550-W Yellow, 40",
                  "Road Bikes",
                  "1120.4900"
                ],
                [
                  "799",
                  "Road-550-W Yellow, 42",
                  "Road Bikes",
                  "1120.4900"
                ],
                [
                  "800",
                  "Road-550-W Yellow, 44",
                  "Road Bikes",
                  "1120.4900"
                ],
                [
                  "801",
                  "Road-550-W Yellow, 48",
                  "Road Bikes",
                  "1120.4900"
                ],
                [
                  "749",
                  "Road-150 Red, 62",
                  "Road Bikes",
                  "3578.2700"
                ],
                [
                  "750",
                  "Road-150 Red, 44",
                  "Road Bikes",
                  "3578.2700"
                ],
                [
                  "751",
                  "Road-150 Red, 48",
                  "Road Bikes",
                  "3578.2700"
                ],
                [
                  "752",
                  "Road-150 Red, 52",
                  "Road Bikes",
                  "3578.2700"
                ],
                [
                  "753",
                  "Road-150 Red, 56",
                  "Road Bikes",
                  "3578.2700"
                ],
                [
                  "754",
                  "Road-450 Red, 58",
                  "Road Bikes",
                  "1457.9900"
                ],
                [
                  "755",
                  "Road-450 Red, 60",
                  "Road Bikes",
                  "1457.9900"
                ],
                [
                  "756",
                  "Road-450 Red, 44",
                  "Road Bikes",
                  "1457.9900"
                ],
                [
                  "757",
                  "Road-450 Red, 48",
                  "Road Bikes",
                  "1457.9900"
                ],
                [
                  "758",
                  "Road-450 Red, 52",
                  "Road Bikes",
                  "1457.9900"
                ],
                [
                  "759",
                  "Road-650 Red, 58",
                  "Road Bikes",
                  "782.9900"
                ],
                [
                  "760",
                  "Road-650 Red, 60",
                  "Road Bikes",
                  "782.9900"
                ],
                [
                  "761",
                  "Road-650 Red, 62",
                  "Road Bikes",
                  "782.9900"
                ],
                [
                  "762",
                  "Road-650 Red, 44",
                  "Road Bikes",
                  "782.9900"
                ],
                [
                  "763",
                  "Road-650 Red, 48",
                  "Road Bikes",
                  "782.9900"
                ],
                [
                  "764",
                  "Road-650 Red, 52",
                  "Road Bikes",
                  "782.9900"
                ],
                [
                  "765",
                  "Road-650 Black, 58",
                  "Road Bikes",
                  "782.9900"
                ],
                [
                  "766",
                  "Road-650 Black, 60",
                  "Road Bikes",
                  "782.9900"
                ],
                [
                  "767",
                  "Road-650 Black, 62",
                  "Road Bikes",
                  "782.9900"
                ],
                [
                  "768",
                  "Road-650 Black, 44",
                  "Road Bikes",
                  "782.9900"
                ],
                [
                  "769",
                  "Road-650 Black, 48",
                  "Road Bikes",
                  "782.9900"
                ],
                [
                  "770",
                  "Road-650 Black, 52",
                  "Road Bikes",
                  "782.9900"
                ],
                [
                  "978",
                  "Touring-3000 Blue, 44",
                  "Touring Bikes",
                  "742.3500"
                ],
                [
                  "979",
                  "Touring-3000 Blue, 50",
                  "Touring Bikes",
                  "742.3500"
                ],
                [
                  "953",
                  "Touring-2000 Blue, 60",
                  "Touring Bikes",
                  "1214.8500"
                ],
                [
                  "954",
                  "Touring-1000 Yellow, 46",
                  "Touring Bikes",
                  "2384.0700"
                ],
                [
                  "955",
                  "Touring-1000 Yellow, 50",
                  "Touring Bikes",
                  "2384.0700"
                ],
                [
                  "956",
                  "Touring-1000 Yellow, 54",
                  "Touring Bikes",
                  "2384.0700"
                ],
                [
                  "957",
                  "Touring-1000 Yellow, 60",
                  "Touring Bikes",
                  "2384.0700"
                ],
                [
                  "958",
                  "Touring-3000 Blue, 54",
                  "Touring Bikes",
                  "742.3500"
                ],
                [
                  "959",
                  "Touring-3000 Blue, 58",
                  "Touring Bikes",
                  "742.3500"
                ],
                [
                  "960",
                  "Touring-3000 Blue, 62",
                  "Touring Bikes",
                  "742.3500"
                ],
                [
                  "961",
                  "Touring-3000 Yellow, 44",
                  "Touring Bikes",
                  "742.3500"
                ],
                [
                  "962",
                  "Touring-3000 Yellow, 50",
                  "Touring Bikes",
                  "742.3500"
                ],
                [
                  "963",
                  "Touring-3000 Yellow, 54",
                  "Touring Bikes",
                  "742.3500"
                ],
                [
                  "964",
                  "Touring-3000 Yellow, 58",
                  "Touring Bikes",
                  "742.3500"
                ],
                [
                  "965",
                  "Touring-3000 Yellow, 62",
                  "Touring Bikes",
                  "742.3500"
                ],
                [
                  "966",
                  "Touring-1000 Blue, 46",
                  "Touring Bikes",
                  "2384.0700"
                ],
                [
                  "967",
                  "Touring-1000 Blue, 50",
                  "Touring Bikes",
                  "2384.0700"
                ],
                [
                  "968",
                  "Touring-1000 Blue, 54",
                  "Touring Bikes",
                  "2384.0700"
                ],
                [
                  "969",
                  "Touring-1000 Blue, 60",
                  "Touring Bikes",
                  "2384.0700"
                ],
                [
                  "970",
                  "Touring-2000 Blue, 46",
                  "Touring Bikes",
                  "1214.8500"
                ],
                [
                  "971",
                  "Touring-2000 Blue, 50",
                  "Touring Bikes",
                  "1214.8500"
                ],
                [
                  "972",
                  "Touring-2000 Blue, 54",
                  "Touring Bikes",
                  "1214.8500"
                ],
                [
                  "946",
                  "LL Touring Handlebars",
                  "Handlebars",
                  "46.0900"
                ],
                [
                  "947",
                  "HL Touring Handlebars",
                  "Handlebars",
                  "91.5700"
                ],
                [
                  "808",
                  "LL Mountain Handlebars",
                  "Handlebars",
                  "44.5400"
                ],
                [
                  "809",
                  "ML Mountain Handlebars",
                  "Handlebars",
                  "61.9200"
                ],
                [
                  "810",
                  "HL Mountain Handlebars",
                  "Handlebars",
                  "120.2700"
                ],
                [
                  "811",
                  "LL Road Handlebars",
                  "Handlebars",
                  "44.5400"
                ],
                [
                  "812",
                  "ML Road Handlebars",
                  "Handlebars",
                  "61.9200"
                ],
                [
                  "813",
                  "HL Road Handlebars",
                  "Handlebars",
                  "120.2700"
                ],
                [
                  "994",
                  "LL Bottom Bracket",
                  "Bottom Brackets",
                  "53.9900"
                ],
                [
                  "995",
                  "ML Bottom Bracket",
                  "Bottom Brackets",
                  "101.2400"
                ],
                [
                  "996",
                  "HL Bottom Bracket",
                  "Bottom Brackets",
                  "121.4900"
                ],
                [
                  "948",
                  "Front Brakes",
                  "Brakes",
                  "106.5000"
                ],
                [
                  "907",
                  "Rear Brakes",
                  "Brakes",
                  "106.5000"
                ],
                [
                  "952",
                  "Chain",
                  "Chains",
                  "20.2400"
                ],
                [
                  "949",
                  "LL Crankset",
                  "Cranksets",
                  "175.4900"
                ],
                [
                  "950",
                  "ML Crankset",
                  "Cranksets",
                  "256.4900"
                ],
                [
                  "951",
                  "HL Crankset",
                  "Cranksets",
                  "404.9900"
                ],
                [
                  "945",
                  "Front Derailleur",
                  "Derailleurs",
                  "91.4900"
                ],
                [
                  "894",
                  "Rear Derailleur",
                  "Derailleurs",
                  "121.4600"
                ],
                [
                  "802",
                  "LL Fork",
                  "Forks",
                  "148.2200"
                ],
                [
                  "803",
                  "ML Fork",
                  "Forks",
                  "175.4900"
                ],
                [
                  "804",
                  "HL Fork",
                  "Forks",
                  "229.4900"
                ],
                [
                  "805",
                  "LL Headset",
                  "Headsets",
                  "34.2000"
                ],
                [
                  "806",
                  "ML Headset",
                  "Headsets",
                  "102.2900"
                ],
                [
                  "807",
                  "HL Headset",
                  "Headsets",
                  "124.7300"
                ],
                [
                  "739",
                  "HL Mountain Frame - Silver, 42",
                  "Mountain Frames",
                  "1364.5000"
                ],
                [
                  "740",
                  "HL Mountain Frame - Silver, 44",
                  "Mountain Frames",
                  "1364.5000"
                ],
                [
                  "741",
                  "HL Mountain Frame - Silver, 48",
                  "Mountain Frames",
                  "1364.5000"
                ],
                [
                  "742",
                  "HL Mountain Frame - Silver, 46",
                  "Mountain Frames",
                  "1364.5000"
                ],
                [
                  "743",
                  "HL Mountain Frame - Black, 42",
                  "Mountain Frames",
                  "1349.6000"
                ],
                [
                  "744",
                  "HL Mountain Frame - Black, 44",
                  "Mountain Frames",
                  "1349.6000"
                ],
                [
                  "745",
                  "HL Mountain Frame - Black, 48",
                  "Mountain Frames",
                  "1349.6000"
                ],
                [
                  "746",
                  "HL Mountain Frame - Black, 46",
                  "Mountain Frames",
                  "1349.6000"
                ],
                [
                  "747",
                  "HL Mountain Frame - Black, 38",
                  "Mountain Frames",
                  "1349.6000"
                ],
                [
                  "748",
                  "HL Mountain Frame - Silver, 38",
                  "Mountain Frames",
                  "1364.5000"
                ],
                [
                  "814",
                  "ML Mountain Frame - Black, 38",
                  "Mountain Frames",
                  "348.7600"
                ],
                [
                  "830",
                  "ML Mountain Frame - Black, 40",
                  "Mountain Frames",
                  "348.7600"
                ],
                [
                  "831",
                  "ML Mountain Frame - Black, 44",
                  "Mountain Frames",
                  "348.7600"
                ],
                [
                  "832",
                  "ML Mountain Frame - Black, 48",
                  "Mountain Frames",
                  "348.7600"
                ],
                [
                  "924",
                  "LL Mountain Frame - Black, 42",
                  "Mountain Frames",
                  "249.7900"
                ],
                [
                  "925",
                  "LL Mountain Frame - Black, 44",
                  "Mountain Frames",
                  "249.7900"
                ],
                [
                  "926",
                  "LL Mountain Frame - Black, 48",
                  "Mountain Frames",
                  "249.7900"
                ],
                [
                  "927",
                  "LL Mountain Frame - Black, 52",
                  "Mountain Frames",
                  "249.7900"
                ],
                [
                  "917",
                  "LL Mountain Frame - Silver, 42",
                  "Mountain Frames",
                  "264.0500"
                ],
                [
                  "918",
                  "LL Mountain Frame - Silver, 44",
                  "Mountain Frames",
                  "264.0500"
                ],
                [
                  "919",
                  "LL Mountain Frame - Silver, 48",
                  "Mountain Frames",
                  "264.0500"
                ],
                [
                  "920",
                  "LL Mountain Frame - Silver, 52",
                  "Mountain Frames",
                  "264.0500"
                ],
                [
                  "904",
                  "ML Mountain Frame-W - Silver, 40",
                  "Mountain Frames",
                  "364.0900"
                ],
                [
                  "905",
                  "ML Mountain Frame-W - Silver, 42",
                  "Mountain Frames",
                  "364.0900"
                ],
                [
                  "906",
                  "ML Mountain Frame-W - Silver, 46",
                  "Mountain Frames",
                  "364.0900"
                ],
                [
                  "942",
                  "ML Mountain Frame-W - Silver, 38",
                  "Mountain Frames",
                  "364.0900"
                ],
                [
                  "943",
                  "LL Mountain Frame - Black, 40",
                  "Mountain Frames",
                  "249.7900"
                ],
                [
                  "944",
                  "LL Mountain Frame - Silver, 40",
                  "Mountain Frames",
                  "264.0500"
                ],
                [
                  "935",
                  "LL Mountain Pedal",
                  "Pedals",
                  "40.4900"
                ],
                [
                  "936",
                  "ML Mountain Pedal",
                  "Pedals",
                  "62.0900"
                ],
                [
                  "937",
                  "HL Mountain Pedal",
                  "Pedals",
                  "80.9900"
                ],
                [
                  "938",
                  "LL Road Pedal",
                  "Pedals",
                  "40.4900"
                ],
                [
                  "939",
                  "ML Road Pedal",
                  "Pedals",
                  "62.0900"
                ],
                [
                  "940",
                  "HL Road Pedal",
                  "Pedals",
                  "80.9900"
                ],
                [
                  "941",
                  "Touring Pedal",
                  "Pedals",
                  "80.9900"
                ],
                [
                  "833",
                  "ML Road Frame-W - Yellow, 40",
                  "Road Frames",
                  "594.8300"
                ],
                [
                  "834",
                  "ML Road Frame-W - Yellow, 42",
                  "Road Frames",
                  "594.8300"
                ],
                [
                  "835",
                  "ML Road Frame-W - Yellow, 44",
                  "Road Frames",
                  "594.8300"
                ],
                [
                  "836",
                  "ML Road Frame-W - Yellow, 48",
                  "Road Frames",
                  "594.8300"
                ],
                [
                  "837",
                  "HL Road Frame - Black, 62",
                  "Road Frames",
                  "1431.5000"
                ],
                [
                  "838",
                  "HL Road Frame - Black, 44",
                  "Road Frames",
                  "1431.5000"
                ],
                [
                  "839",
                  "HL Road Frame - Black, 48",
                  "Road Frames",
                  "1431.5000"
                ],
                [
                  "840",
                  "HL Road Frame - Black, 52",
                  "Road Frames",
                  "1431.5000"
                ],
                [
                  "822",
                  "ML Road Frame-W - Yellow, 38",
                  "Road Frames",
                  "594.8300"
                ],
                [
                  "680",
                  "HL Road Frame - Black, 58",
                  "Road Frames",
                  "1431.5000"
                ],
                [
                  "706",
                  "HL Road Frame - Red, 58",
                  "Road Frames",
                  "1431.5000"
                ],
                [
                  "717",
                  "HL Road Frame - Red, 62",
                  "Road Frames",
                  "1431.5000"
                ],
                [
                  "718",
                  "HL Road Frame - Red, 44",
                  "Road Frames",
                  "1431.5000"
                ],
                [
                  "719",
                  "HL Road Frame - Red, 48",
                  "Road Frames",
                  "1431.5000"
                ],
                [
                  "720",
                  "HL Road Frame - Red, 52",
                  "Road Frames",
                  "1431.5000"
                ],
                [
                  "721",
                  "HL Road Frame - Red, 56",
                  "Road Frames",
                  "1431.5000"
                ],
                [
                  "722",
                  "LL Road Frame - Black, 58",
                  "Road Frames",
                  "337.2200"
                ],
                [
                  "723",
                  "LL Road Frame - Black, 60",
                  "Road Frames",
                  "337.2200"
                ],
                [
                  "724",
                  "LL Road Frame - Black, 62",
                  "Road Frames",
                  "337.2200"
                ],
                [
                  "725",
                  "LL Road Frame - Red, 44",
                  "Road Frames",
                  "337.2200"
                ],
                [
                  "726",
                  "LL Road Frame - Red, 48",
                  "Road Frames",
                  "337.2200"
                ],
                [
                  "727",
                  "LL Road Frame - Red, 52",
                  "Road Frames",
                  "337.2200"
                ],
                [
                  "728",
                  "LL Road Frame - Red, 58",
                  "Road Frames",
                  "337.2200"
                ],
                [
                  "729",
                  "LL Road Frame - Red, 60",
                  "Road Frames",
                  "337.2200"
                ],
                [
                  "730",
                  "LL Road Frame - Red, 62",
                  "Road Frames",
                  "337.2200"
                ],
                [
                  "731",
                  "ML Road Frame - Red, 44",
                  "Road Frames",
                  "594.8300"
                ],
                [
                  "732",
                  "ML Road Frame - Red, 48",
                  "Road Frames",
                  "594.8300"
                ],
                [
                  "733",
                  "ML Road Frame - Red, 52",
                  "Road Frames",
                  "594.8300"
                ],
                [
                  "734",
                  "ML Road Frame - Red, 58",
                  "Road Frames",
                  "594.8300"
                ],
                [
                  "735",
                  "ML Road Frame - Red, 60",
                  "Road Frames",
                  "594.8300"
                ],
                [
                  "736",
                  "LL Road Frame - Black, 44",
                  "Road Frames",
                  "337.2200"
                ],
                [
                  "737",
                  "LL Road Frame - Black, 48",
                  "Road Frames",
                  "337.2200"
                ],
                [
                  "738",
                  "LL Road Frame - Black, 52",
                  "Road Frames",
                  "337.2200"
                ],
                [
                  "908",
                  "LL Mountain Seat/Saddle",
                  "Saddles",
                  "27.1200"
                ],
                [
                  "909",
                  "ML Mountain Seat/Saddle",
                  "Saddles",
                  "39.1400"
                ],
                [
                  "910",
                  "HL Mountain Seat/Saddle",
                  "Saddles",
                  "52.6400"
                ],
                [
                  "911",
                  "LL Road Seat/Saddle",
                  "Saddles",
                  "27.1200"
                ],
                [
                  "912",
                  "ML Road Seat/Saddle",
                  "Saddles",
                  "39.1400"
                ],
                [
                  "913",
                  "HL Road Seat/Saddle",
                  "Saddles",
                  "52.6400"
                ],
                [
                  "914",
                  "LL Touring Seat/Saddle",
                  "Saddles",
                  "27.1200"
                ],
                [
                  "915",
                  "ML Touring Seat/Saddle",
                  "Saddles",
                  "39.1400"
                ],
                [
                  "916",
                  "HL Touring Seat/Saddle",
                  "Saddles",
                  "52.6400"
                ],
                [
                  "895",
                  "LL Touring Frame - Blue, 50",
                  "Touring Frames",
                  "333.4200"
                ],
                [
                  "896",
                  "LL Touring Frame - Blue, 54",
                  "Touring Frames",
                  "333.4200"
                ],
                [
                  "897",
                  "LL Touring Frame - Blue, 58",
                  "Touring Frames",
                  "333.4200"
                ],
                [
                  "898",
                  "LL Touring Frame - Blue, 62",
                  "Touring Frames",
                  "333.4200"
                ],
                [
                  "899",
                  "LL Touring Frame - Yellow, 44",
                  "Touring Frames",
                  "333.4200"
                ],
                [
                  "900",
                  "LL Touring Frame - Yellow, 50",
                  "Touring Frames",
                  "333.4200"
                ],
                [
                  "901",
                  "LL Touring Frame - Yellow, 54",
                  "Touring Frames",
                  "333.4200"
                ],
                [
                  "902",
                  "LL Touring Frame - Yellow, 58",
                  "Touring Frames",
                  "333.4200"
                ],
                [
                  "903",
                  "LL Touring Frame - Blue, 44",
                  "Touring Frames",
                  "333.4200"
                ],
                [
                  "885",
                  "HL Touring Frame - Yellow, 60",
                  "Touring Frames",
                  "1003.9100"
                ],
                [
                  "886",
                  "LL Touring Frame - Yellow, 62",
                  "Touring Frames",
                  "333.4200"
                ],
                [
                  "887",
                  "HL Touring Frame - Yellow, 46",
                  "Touring Frames",
                  "1003.9100"
                ],
                [
                  "888",
                  "HL Touring Frame - Yellow, 50",
                  "Touring Frames",
                  "1003.9100"
                ],
                [
                  "889",
                  "HL Touring Frame - Yellow, 54",
                  "Touring Frames",
                  "1003.9100"
                ],
                [
                  "890",
                  "HL Touring Frame - Blue, 46",
                  "Touring Frames",
                  "1003.9100"
                ],
                [
                  "891",
                  "HL Touring Frame - Blue, 50",
                  "Touring Frames",
                  "1003.9100"
                ],
                [
                  "892",
                  "HL Touring Frame - Blue, 54",
                  "Touring Frames",
                  "1003.9100"
                ],
                [
                  "893",
                  "HL Touring Frame - Blue, 60",
                  "Touring Frames",
                  "1003.9100"
                ],
                [
                  "823",
                  "LL Mountain Rear Wheel",
                  "Wheels",
                  "87.7450"
                ],
                [
                  "824",
                  "ML Mountain Rear Wheel",
                  "Wheels",
                  "236.0250"
                ],
                [
                  "825",
                  "HL Mountain Rear Wheel",
                  "Wheels",
                  "327.2150"
                ],
                [
                  "826",
                  "LL Road Rear Wheel",
                  "Wheels",
                  "112.5650"
                ],
                [
                  "827",
                  "ML Road Rear Wheel",
                  "Wheels",
                  "275.3850"
                ],
                [
                  "828",
                  "HL Road Rear Wheel",
                  "Wheels",
                  "357.0600"
                ],
                [
                  "829",
                  "Touring Rear Wheel",
                  "Wheels",
                  "245.0100"
                ],
                [
                  "815",
                  "LL Mountain Front Wheel",
                  "Wheels",
                  "60.7450"
                ],
                [
                  "816",
                  "ML Mountain Front Wheel",
                  "Wheels",
                  "209.0250"
                ],
                [
                  "817",
                  "HL Mountain Front Wheel",
                  "Wheels",
                  "300.2150"
                ],
                [
                  "818",
                  "LL Road Front Wheel",
                  "Wheels",
                  "85.5650"
                ],
                [
                  "819",
                  "ML Road Front Wheel",
                  "Wheels",
                  "248.3850"
                ],
                [
                  "820",
                  "HL Road Front Wheel",
                  "Wheels",
                  "330.0600"
                ],
                [
                  "821",
                  "Touring Front Wheel",
                  "Wheels",
                  "218.0100"
                ],
                [
                  "855",
                  "Men's Bib-Shorts, S",
                  "Bib-Shorts",
                  "89.9900"
                ],
                [
                  "856",
                  "Men's Bib-Shorts, M",
                  "Bib-Shorts",
                  "89.9900"
                ],
                [
                  "857",
                  "Men's Bib-Shorts, L",
                  "Bib-Shorts",
                  "89.9900"
                ],
                [
                  "712",
                  "AWC Logo Cap",
                  "Caps",
                  "8.9900"
                ],
                [
                  "858",
                  "Half-Finger Gloves, S",
                  "Gloves",
                  "24.4900"
                ],
                [
                  "859",
                  "Half-Finger Gloves, M",
                  "Gloves",
                  "24.4900"
                ],
                [
                  "860",
                  "Half-Finger Gloves, L",
                  "Gloves",
                  "24.4900"
                ],
                [
                  "861",
                  "Full-Finger Gloves, S",
                  "Gloves",
                  "37.9900"
                ],
                [
                  "862",
                  "Full-Finger Gloves, M",
                  "Gloves",
                  "37.9900"
                ],
                [
                  "863",
                  "Full-Finger Gloves, L",
                  "Gloves",
                  "37.9900"
                ],
                [
                  "713",
                  "Long-Sleeve Logo Jersey, S",
                  "Jerseys",
                  "49.9900"
                ],
                [
                  "714",
                  "Long-Sleeve Logo Jersey, M",
                  "Jerseys",
                  "49.9900"
                ],
                [
                  "715",
                  "Long-Sleeve Logo Jersey, L",
                  "Jerseys",
                  "49.9900"
                ],
                [
                  "716",
                  "Long-Sleeve Logo Jersey, XL",
                  "Jerseys",
                  "49.9900"
                ],
                [
                  "881",
                  "Short-Sleeve Classic Jersey, S",
                  "Jerseys",
                  "53.9900"
                ],
                [
                  "882",
                  "Short-Sleeve Classic Jersey, M",
                  "Jerseys",
                  "53.9900"
                ],
                [
                  "883",
                  "Short-Sleeve Classic Jersey, L",
                  "Jerseys",
                  "53.9900"
                ],
                [
                  "884",
                  "Short-Sleeve Classic Jersey, XL",
                  "Jerseys",
                  "53.9900"
                ],
                [
                  "867",
                  "Women's Mountain Shorts, S",
                  "Shorts",
                  "69.9900"
                ],
                [
                  "868",
                  "Women's Mountain Shorts, M",
                  "Shorts",
                  "69.9900"
                ],
                [
                  "869",
                  "Women's Mountain Shorts, L",
                  "Shorts",
                  "69.9900"
                ],
                [
                  "841",
                  "Men's Sports Shorts, S",
                  "Shorts",
                  "59.9900"
                ],
                [
                  "849",
                  "Men's Sports Shorts, M",
                  "Shorts",
                  "59.9900"
                ],
                [
                  "850",
                  "Men's Sports Shorts, L",
                  "Shorts",
                  "59.9900"
                ],
                [
                  "851",
                  "Men's Sports Shorts, XL",
                  "Shorts",
                  "59.9900"
                ],
                [
                  "709",
                  "Mountain Bike Socks, M",
                  "Socks",
                  "9.5000"
                ],
                [
                  "710",
                  "Mountain Bike Socks, L",
                  "Socks",
                  "9.5000"
                ],
                [
                  "874",
                  "Racing Socks, M",
                  "Socks",
                  "8.9900"
                ],
                [
                  "875",
                  "Racing Socks, L",
                  "Socks",
                  "8.9900"
                ],
                [
                  "852",
                  "Women's Tights, S",
                  "Tights",
                  "74.9900"
                ],
                [
                  "853",
                  "Women's Tights, M",
                  "Tights",
                  "74.9900"
                ],
                [
                  "854",
                  "Women's Tights, L",
                  "Tights",
                  "74.9900"
                ],
                [
                  "864",
                  "Classic Vest, S",
                  "Vests",
                  "63.5000"
                ],
                [
                  "865",
                  "Classic Vest, M",
                  "Vests",
                  "63.5000"
                ],
                [
                  "866",
                  "Classic Vest, L",
                  "Vests",
                  "63.5000"
                ],
                [
                  "876",
                  "Hitch Rack - 4-Bike",
                  "Bike Racks",
                  "120.0000"
                ],
                [
                  "879",
                  "All-Purpose Bike Stand",
                  "Bike Stands",
                  "159.0000"
                ],
                [
                  "870",
                  "Water Bottle - 30 oz.",
                  "Bottles and Cages",
                  "4.9900"
                ],
                [
                  "871",
                  "Mountain Bottle Cage",
                  "Bottles and Cages",
                  "9.9900"
                ],
                [
                  "872",
                  "Road Bottle Cage",
                  "Bottles and Cages",
                  "8.9900"
                ],
                [
                  "877",
                  "Bike Wash - Dissolver",
                  "Cleaners",
                  "7.9500"
                ],
                [
                  "878",
                  "Fender Set - Mountain",
                  "Fenders",
                  "21.9800"
                ],
                [
                  "711",
                  "Sport-100 Helmet, Blue",
                  "Helmets",
                  "34.9900"
                ],
                [
                  "707",
                  "Sport-100 Helmet, Red",
                  "Helmets",
                  "34.9900"
                ],
                [
                  "708",
                  "Sport-100 Helmet, Black",
                  "Helmets",
                  "34.9900"
                ],
                [
                  "880",
                  "Hydration Pack - 70 oz.",
                  "Hydration Packs",
                  "54.9900"
                ],
                [
                  "846",
                  "Taillights - Battery-Powered",
                  "Lights",
                  "13.9900"
                ],
                [
                  "847",
                  "Headlights - Dual-Beam",
                  "Lights",
                  "34.9900"
                ],
                [
                  "848",
                  "Headlights - Weatherproof",
                  "Lights",
                  "44.9900"
                ],
                [
                  "843",
                  "Cable Lock",
                  "Locks",
                  "25.0000"
                ],
                [
                  "842",
                  "Touring-Panniers, Large",
                  "Panniers",
                  "125.0000"
                ],
                [
                  "844",
                  "Minipump",
                  "Pumps",
                  "19.9900"
                ],
                [
                  "845",
                  "Mountain Pump",
                  "Pumps",
                  "24.9900"
                ],
                [
                  "873",
                  "Patch Kit/8 Patches",
                  "Tires and Tubes",
                  "2.2900"
                ],
                [
                  "921",
                  "Mountain Tire Tube",
                  "Tires and Tubes",
                  "4.9900"
                ],
                [
                  "922",
                  "Road Tire Tube",
                  "Tires and Tubes",
                  "3.9900"
                ],
                [
                  "923",
                  "Touring Tire Tube",
                  "Tires and Tubes",
                  "4.9900"
                ],
                [
                  "928",
                  "LL Mountain Tire",
                  "Tires and Tubes",
                  "24.9900"
                ],
                [
                  "929",
                  "ML Mountain Tire",
                  "Tires and Tubes",
                  "29.9900"
                ],
                [
                  "930",
                  "HL Mountain Tire",
                  "Tires and Tubes",
                  "35.0000"
                ],
                [
                  "931",
                  "LL Road Tire",
                  "Tires and Tubes",
                  "21.4900"
                ],
                [
                  "932",
                  "ML Road Tire",
                  "Tires and Tubes",
                  "24.9900"
                ],
                [
                  "933",
                  "HL Road Tire",
                  "Tires and Tubes",
                  "32.6000"
                ],
                [
                  "934",
                  "Touring Tire",
                  "Tires and Tubes",
                  "28.9900"
                ]
              ]
            },
            "text/plain": "<Spark SQL result set with 295 rows and 4 fields>"
          },
          "execution_count": 12,
          "metadata": {}
        }
      ],
      "metadata": {
        "jupyter": {
          "source_hidden": false,
          "outputs_hidden": false
        },
        "nteract": {
          "transient": {
            "deleting": false
          }
        },
        "collapsed": false
      },
      "source": [
        " %%sql\n",
        "\n",
        " USE AdventureWorks;\n",
        "\n",
        " SELECT * FROM ProductsManaged;"
      ]
    },
    {
      "cell_type": "code",
      "execution_count": 13,
      "outputs": [
        {
          "output_type": "display_data",
          "data": {
            "application/vnd.livy.statement-meta+json": {
              "spark_pool": "sparkmwdvy04",
              "statement_id": 17,
              "statement_ids": [
                16,
                17
              ],
              "state": "finished",
              "livy_statement_state": "available",
              "spark_jobs": null,
              "session_id": "0",
              "normalized_state": "finished",
              "queued_time": "2024-08-25T05:29:45.3676965Z",
              "session_start_time": null,
              "execution_start_time": "2024-08-25T05:29:45.5117072Z",
              "execution_finish_time": "2024-08-25T05:29:48.033037Z",
              "parent_msg_id": "853cf9d4-fcd8-451a-8cca-8a401da57e39"
            },
            "text/plain": "StatementMeta(sparkmwdvy04, 0, 17, Finished, Available, Finished)"
          },
          "metadata": {}
        },
        {
          "output_type": "execute_result",
          "data": {
            "application/vnd.synapse.sparksql-result+json": {
              "schema": {
                "type": "struct",
                "fields": []
              },
              "data": []
            },
            "text/plain": "<Spark SQL result set with 0 rows and 0 fields>"
          },
          "execution_count": 13,
          "metadata": {}
        },
        {
          "output_type": "execute_result",
          "data": {
            "application/vnd.synapse.sparksql-result+json": {
              "schema": {
                "type": "struct",
                "fields": [
                  {
                    "name": "database",
                    "type": "string",
                    "nullable": false,
                    "metadata": {}
                  },
                  {
                    "name": "tableName",
                    "type": "string",
                    "nullable": false,
                    "metadata": {}
                  },
                  {
                    "name": "isTemporary",
                    "type": "boolean",
                    "nullable": false,
                    "metadata": {}
                  }
                ]
              },
              "data": [
                [
                  "adventureworks",
                  "productsexternal",
                  false
                ],
                [
                  "adventureworks",
                  "productsmanaged",
                  false
                ]
              ]
            },
            "text/plain": "<Spark SQL result set with 2 rows and 3 fields>"
          },
          "execution_count": 13,
          "metadata": {}
        }
      ],
      "metadata": {
        "jupyter": {
          "source_hidden": false,
          "outputs_hidden": false
        },
        "nteract": {
          "transient": {
            "deleting": false
          }
        },
        "collapsed": false
      },
      "source": [
        " %%sql\n",
        "\n",
        " USE AdventureWorks;\n",
        "\n",
        " SHOW TABLES;"
      ]
    },
    {
      "cell_type": "code",
      "execution_count": 14,
      "outputs": [
        {
          "output_type": "display_data",
          "data": {
            "application/vnd.livy.statement-meta+json": {
              "spark_pool": "sparkmwdvy04",
              "statement_id": 20,
              "statement_ids": [
                18,
                19,
                20
              ],
              "state": "finished",
              "livy_statement_state": "available",
              "spark_jobs": null,
              "session_id": "0",
              "normalized_state": "finished",
              "queued_time": "2024-08-25T05:30:25.3553912Z",
              "session_start_time": null,
              "execution_start_time": "2024-08-25T05:30:25.4854753Z",
              "execution_finish_time": "2024-08-25T05:30:31.8440394Z",
              "parent_msg_id": "85b5af74-d488-4a4e-878f-12c4d16a3f5d"
            },
            "text/plain": "StatementMeta(sparkmwdvy04, 0, 20, Finished, Available, Finished)"
          },
          "metadata": {}
        },
        {
          "output_type": "execute_result",
          "data": {
            "application/vnd.synapse.sparksql-result+json": {
              "schema": {
                "type": "struct",
                "fields": []
              },
              "data": []
            },
            "text/plain": "<Spark SQL result set with 0 rows and 0 fields>"
          },
          "execution_count": 14,
          "metadata": {}
        },
        {
          "output_type": "execute_result",
          "data": {
            "application/vnd.synapse.sparksql-result+json": {
              "schema": {
                "type": "struct",
                "fields": []
              },
              "data": []
            },
            "text/plain": "<Spark SQL result set with 0 rows and 0 fields>"
          },
          "execution_count": 14,
          "metadata": {}
        },
        {
          "output_type": "execute_result",
          "data": {
            "application/vnd.synapse.sparksql-result+json": {
              "schema": {
                "type": "struct",
                "fields": []
              },
              "data": []
            },
            "text/plain": "<Spark SQL result set with 0 rows and 0 fields>"
          },
          "execution_count": 14,
          "metadata": {}
        }
      ],
      "metadata": {
        "jupyter": {
          "source_hidden": false,
          "outputs_hidden": false
        },
        "nteract": {
          "transient": {
            "deleting": false
          }
        },
        "collapsed": false
      },
      "source": [
        " %%sql\n",
        "\n",
        " USE AdventureWorks;\n",
        "\n",
        " DROP TABLE IF EXISTS ProductsExternal;\n",
        " DROP TABLE IF EXISTS ProductsManaged;"
      ]
    },
    {
      "cell_type": "code",
      "execution_count": 15,
      "outputs": [
        {
          "output_type": "display_data",
          "data": {
            "application/vnd.livy.statement-meta+json": {
              "spark_pool": "sparkmwdvy04",
              "statement_id": 22,
              "statement_ids": [
                21,
                22
              ],
              "state": "finished",
              "livy_statement_state": "available",
              "spark_jobs": null,
              "session_id": "0",
              "normalized_state": "finished",
              "queued_time": "2024-08-25T05:31:06.0996595Z",
              "session_start_time": null,
              "execution_start_time": "2024-08-25T05:31:06.2325461Z",
              "execution_finish_time": "2024-08-25T05:31:09.2210625Z",
              "parent_msg_id": "44cca51f-35a4-4357-86f4-65b14189d2eb"
            },
            "text/plain": "StatementMeta(sparkmwdvy04, 0, 22, Finished, Available, Finished)"
          },
          "metadata": {}
        },
        {
          "output_type": "execute_result",
          "data": {
            "application/vnd.synapse.sparksql-result+json": {
              "schema": {
                "type": "struct",
                "fields": []
              },
              "data": []
            },
            "text/plain": "<Spark SQL result set with 0 rows and 0 fields>"
          },
          "execution_count": 15,
          "metadata": {}
        },
        {
          "output_type": "execute_result",
          "data": {
            "application/vnd.synapse.sparksql-result+json": {
              "schema": {
                "type": "struct",
                "fields": []
              },
              "data": []
            },
            "text/plain": "<Spark SQL result set with 0 rows and 0 fields>"
          },
          "execution_count": 15,
          "metadata": {}
        }
      ],
      "metadata": {
        "jupyter": {
          "source_hidden": false,
          "outputs_hidden": false
        },
        "nteract": {
          "transient": {
            "deleting": false
          }
        },
        "collapsed": false
      },
      "source": [
        " %%sql\n",
        "\n",
        " USE AdventureWorks;\n",
        "\n",
        " CREATE TABLE Products\n",
        " USING DELTA\n",
        " LOCATION '/delta/products-delta';"
      ]
    },
    {
      "cell_type": "code",
      "execution_count": 16,
      "outputs": [
        {
          "output_type": "display_data",
          "data": {
            "application/vnd.livy.statement-meta+json": {
              "spark_pool": "sparkmwdvy04",
              "statement_id": 24,
              "statement_ids": [
                23,
                24
              ],
              "state": "finished",
              "livy_statement_state": "available",
              "spark_jobs": null,
              "session_id": "0",
              "normalized_state": "finished",
              "queued_time": "2024-08-25T05:31:20.1194455Z",
              "session_start_time": null,
              "execution_start_time": "2024-08-25T05:31:20.2560836Z",
              "execution_finish_time": "2024-08-25T05:31:22.2273547Z",
              "parent_msg_id": "4af8880d-2145-4f30-91fb-0cdde85939fc"
            },
            "text/plain": "StatementMeta(sparkmwdvy04, 0, 24, Finished, Available, Finished)"
          },
          "metadata": {}
        },
        {
          "output_type": "execute_result",
          "data": {
            "application/vnd.synapse.sparksql-result+json": {
              "schema": {
                "type": "struct",
                "fields": []
              },
              "data": []
            },
            "text/plain": "<Spark SQL result set with 0 rows and 0 fields>"
          },
          "execution_count": 16,
          "metadata": {}
        },
        {
          "output_type": "execute_result",
          "data": {
            "application/vnd.synapse.sparksql-result+json": {
              "schema": {
                "type": "struct",
                "fields": [
                  {
                    "name": "ProductID",
                    "type": "string",
                    "nullable": true,
                    "metadata": {}
                  },
                  {
                    "name": "ProductName",
                    "type": "string",
                    "nullable": true,
                    "metadata": {}
                  },
                  {
                    "name": "Category",
                    "type": "string",
                    "nullable": true,
                    "metadata": {}
                  },
                  {
                    "name": "ListPrice",
                    "type": "string",
                    "nullable": true,
                    "metadata": {}
                  }
                ]
              },
              "data": [
                [
                  "771",
                  "Mountain-100 Silver, 38",
                  "Mountain Bikes",
                  "3059.991"
                ],
                [
                  "772",
                  "Mountain-100 Silver, 42",
                  "Mountain Bikes",
                  "3399.9900"
                ],
                [
                  "773",
                  "Mountain-100 Silver, 44",
                  "Mountain Bikes",
                  "3399.9900"
                ],
                [
                  "774",
                  "Mountain-100 Silver, 48",
                  "Mountain Bikes",
                  "3399.9900"
                ],
                [
                  "775",
                  "Mountain-100 Black, 38",
                  "Mountain Bikes",
                  "3374.9900"
                ],
                [
                  "776",
                  "Mountain-100 Black, 42",
                  "Mountain Bikes",
                  "3374.9900"
                ],
                [
                  "777",
                  "Mountain-100 Black, 44",
                  "Mountain Bikes",
                  "3374.9900"
                ],
                [
                  "778",
                  "Mountain-100 Black, 48",
                  "Mountain Bikes",
                  "3374.9900"
                ],
                [
                  "779",
                  "Mountain-200 Silver, 38",
                  "Mountain Bikes",
                  "2319.9900"
                ],
                [
                  "780",
                  "Mountain-200 Silver, 42",
                  "Mountain Bikes",
                  "2319.9900"
                ],
                [
                  "781",
                  "Mountain-200 Silver, 46",
                  "Mountain Bikes",
                  "2319.9900"
                ],
                [
                  "782",
                  "Mountain-200 Black, 38",
                  "Mountain Bikes",
                  "2294.9900"
                ],
                [
                  "783",
                  "Mountain-200 Black, 42",
                  "Mountain Bikes",
                  "2294.9900"
                ],
                [
                  "784",
                  "Mountain-200 Black, 46",
                  "Mountain Bikes",
                  "2294.9900"
                ],
                [
                  "785",
                  "Mountain-300 Black, 38",
                  "Mountain Bikes",
                  "1079.9900"
                ],
                [
                  "786",
                  "Mountain-300 Black, 40",
                  "Mountain Bikes",
                  "1079.9900"
                ],
                [
                  "787",
                  "Mountain-300 Black, 44",
                  "Mountain Bikes",
                  "1079.9900"
                ],
                [
                  "788",
                  "Mountain-300 Black, 48",
                  "Mountain Bikes",
                  "1079.9900"
                ],
                [
                  "980",
                  "Mountain-400-W Silver, 38",
                  "Mountain Bikes",
                  "769.4900"
                ],
                [
                  "981",
                  "Mountain-400-W Silver, 40",
                  "Mountain Bikes",
                  "769.4900"
                ],
                [
                  "982",
                  "Mountain-400-W Silver, 42",
                  "Mountain Bikes",
                  "769.4900"
                ],
                [
                  "983",
                  "Mountain-400-W Silver, 46",
                  "Mountain Bikes",
                  "769.4900"
                ],
                [
                  "984",
                  "Mountain-500 Silver, 40",
                  "Mountain Bikes",
                  "564.9900"
                ],
                [
                  "985",
                  "Mountain-500 Silver, 42",
                  "Mountain Bikes",
                  "564.9900"
                ],
                [
                  "986",
                  "Mountain-500 Silver, 44",
                  "Mountain Bikes",
                  "564.9900"
                ],
                [
                  "987",
                  "Mountain-500 Silver, 48",
                  "Mountain Bikes",
                  "564.9900"
                ],
                [
                  "988",
                  "Mountain-500 Silver, 52",
                  "Mountain Bikes",
                  "564.9900"
                ],
                [
                  "989",
                  "Mountain-500 Black, 40",
                  "Mountain Bikes",
                  "539.9900"
                ],
                [
                  "990",
                  "Mountain-500 Black, 42",
                  "Mountain Bikes",
                  "539.9900"
                ],
                [
                  "991",
                  "Mountain-500 Black, 44",
                  "Mountain Bikes",
                  "539.9900"
                ],
                [
                  "992",
                  "Mountain-500 Black, 48",
                  "Mountain Bikes",
                  "539.9900"
                ],
                [
                  "993",
                  "Mountain-500 Black, 52",
                  "Mountain Bikes",
                  "539.9900"
                ],
                [
                  "973",
                  "Road-350-W Yellow, 40",
                  "Road Bikes",
                  "1700.9900"
                ],
                [
                  "974",
                  "Road-350-W Yellow, 42",
                  "Road Bikes",
                  "1700.9900"
                ],
                [
                  "975",
                  "Road-350-W Yellow, 44",
                  "Road Bikes",
                  "1700.9900"
                ],
                [
                  "976",
                  "Road-350-W Yellow, 48",
                  "Road Bikes",
                  "1700.9900"
                ],
                [
                  "977",
                  "Road-750 Black, 58",
                  "Road Bikes",
                  "539.9900"
                ],
                [
                  "997",
                  "Road-750 Black, 44",
                  "Road Bikes",
                  "539.9900"
                ],
                [
                  "998",
                  "Road-750 Black, 48",
                  "Road Bikes",
                  "539.9900"
                ],
                [
                  "999",
                  "Road-750 Black, 52",
                  "Road Bikes",
                  "539.9900"
                ],
                [
                  "789",
                  "Road-250 Red, 44",
                  "Road Bikes",
                  "2443.3500"
                ],
                [
                  "790",
                  "Road-250 Red, 48",
                  "Road Bikes",
                  "2443.3500"
                ],
                [
                  "791",
                  "Road-250 Red, 52",
                  "Road Bikes",
                  "2443.3500"
                ],
                [
                  "792",
                  "Road-250 Red, 58",
                  "Road Bikes",
                  "2443.3500"
                ],
                [
                  "793",
                  "Road-250 Black, 44",
                  "Road Bikes",
                  "2443.3500"
                ],
                [
                  "794",
                  "Road-250 Black, 48",
                  "Road Bikes",
                  "2443.3500"
                ],
                [
                  "795",
                  "Road-250 Black, 52",
                  "Road Bikes",
                  "2443.3500"
                ],
                [
                  "796",
                  "Road-250 Black, 58",
                  "Road Bikes",
                  "2443.3500"
                ],
                [
                  "797",
                  "Road-550-W Yellow, 38",
                  "Road Bikes",
                  "1120.4900"
                ],
                [
                  "798",
                  "Road-550-W Yellow, 40",
                  "Road Bikes",
                  "1120.4900"
                ],
                [
                  "799",
                  "Road-550-W Yellow, 42",
                  "Road Bikes",
                  "1120.4900"
                ],
                [
                  "800",
                  "Road-550-W Yellow, 44",
                  "Road Bikes",
                  "1120.4900"
                ],
                [
                  "801",
                  "Road-550-W Yellow, 48",
                  "Road Bikes",
                  "1120.4900"
                ],
                [
                  "749",
                  "Road-150 Red, 62",
                  "Road Bikes",
                  "3578.2700"
                ],
                [
                  "750",
                  "Road-150 Red, 44",
                  "Road Bikes",
                  "3578.2700"
                ],
                [
                  "751",
                  "Road-150 Red, 48",
                  "Road Bikes",
                  "3578.2700"
                ],
                [
                  "752",
                  "Road-150 Red, 52",
                  "Road Bikes",
                  "3578.2700"
                ],
                [
                  "753",
                  "Road-150 Red, 56",
                  "Road Bikes",
                  "3578.2700"
                ],
                [
                  "754",
                  "Road-450 Red, 58",
                  "Road Bikes",
                  "1457.9900"
                ],
                [
                  "755",
                  "Road-450 Red, 60",
                  "Road Bikes",
                  "1457.9900"
                ],
                [
                  "756",
                  "Road-450 Red, 44",
                  "Road Bikes",
                  "1457.9900"
                ],
                [
                  "757",
                  "Road-450 Red, 48",
                  "Road Bikes",
                  "1457.9900"
                ],
                [
                  "758",
                  "Road-450 Red, 52",
                  "Road Bikes",
                  "1457.9900"
                ],
                [
                  "759",
                  "Road-650 Red, 58",
                  "Road Bikes",
                  "782.9900"
                ],
                [
                  "760",
                  "Road-650 Red, 60",
                  "Road Bikes",
                  "782.9900"
                ],
                [
                  "761",
                  "Road-650 Red, 62",
                  "Road Bikes",
                  "782.9900"
                ],
                [
                  "762",
                  "Road-650 Red, 44",
                  "Road Bikes",
                  "782.9900"
                ],
                [
                  "763",
                  "Road-650 Red, 48",
                  "Road Bikes",
                  "782.9900"
                ],
                [
                  "764",
                  "Road-650 Red, 52",
                  "Road Bikes",
                  "782.9900"
                ],
                [
                  "765",
                  "Road-650 Black, 58",
                  "Road Bikes",
                  "782.9900"
                ],
                [
                  "766",
                  "Road-650 Black, 60",
                  "Road Bikes",
                  "782.9900"
                ],
                [
                  "767",
                  "Road-650 Black, 62",
                  "Road Bikes",
                  "782.9900"
                ],
                [
                  "768",
                  "Road-650 Black, 44",
                  "Road Bikes",
                  "782.9900"
                ],
                [
                  "769",
                  "Road-650 Black, 48",
                  "Road Bikes",
                  "782.9900"
                ],
                [
                  "770",
                  "Road-650 Black, 52",
                  "Road Bikes",
                  "782.9900"
                ],
                [
                  "978",
                  "Touring-3000 Blue, 44",
                  "Touring Bikes",
                  "742.3500"
                ],
                [
                  "979",
                  "Touring-3000 Blue, 50",
                  "Touring Bikes",
                  "742.3500"
                ],
                [
                  "953",
                  "Touring-2000 Blue, 60",
                  "Touring Bikes",
                  "1214.8500"
                ],
                [
                  "954",
                  "Touring-1000 Yellow, 46",
                  "Touring Bikes",
                  "2384.0700"
                ],
                [
                  "955",
                  "Touring-1000 Yellow, 50",
                  "Touring Bikes",
                  "2384.0700"
                ],
                [
                  "956",
                  "Touring-1000 Yellow, 54",
                  "Touring Bikes",
                  "2384.0700"
                ],
                [
                  "957",
                  "Touring-1000 Yellow, 60",
                  "Touring Bikes",
                  "2384.0700"
                ],
                [
                  "958",
                  "Touring-3000 Blue, 54",
                  "Touring Bikes",
                  "742.3500"
                ],
                [
                  "959",
                  "Touring-3000 Blue, 58",
                  "Touring Bikes",
                  "742.3500"
                ],
                [
                  "960",
                  "Touring-3000 Blue, 62",
                  "Touring Bikes",
                  "742.3500"
                ],
                [
                  "961",
                  "Touring-3000 Yellow, 44",
                  "Touring Bikes",
                  "742.3500"
                ],
                [
                  "962",
                  "Touring-3000 Yellow, 50",
                  "Touring Bikes",
                  "742.3500"
                ],
                [
                  "963",
                  "Touring-3000 Yellow, 54",
                  "Touring Bikes",
                  "742.3500"
                ],
                [
                  "964",
                  "Touring-3000 Yellow, 58",
                  "Touring Bikes",
                  "742.3500"
                ],
                [
                  "965",
                  "Touring-3000 Yellow, 62",
                  "Touring Bikes",
                  "742.3500"
                ],
                [
                  "966",
                  "Touring-1000 Blue, 46",
                  "Touring Bikes",
                  "2384.0700"
                ],
                [
                  "967",
                  "Touring-1000 Blue, 50",
                  "Touring Bikes",
                  "2384.0700"
                ],
                [
                  "968",
                  "Touring-1000 Blue, 54",
                  "Touring Bikes",
                  "2384.0700"
                ],
                [
                  "969",
                  "Touring-1000 Blue, 60",
                  "Touring Bikes",
                  "2384.0700"
                ],
                [
                  "970",
                  "Touring-2000 Blue, 46",
                  "Touring Bikes",
                  "1214.8500"
                ],
                [
                  "971",
                  "Touring-2000 Blue, 50",
                  "Touring Bikes",
                  "1214.8500"
                ],
                [
                  "972",
                  "Touring-2000 Blue, 54",
                  "Touring Bikes",
                  "1214.8500"
                ],
                [
                  "946",
                  "LL Touring Handlebars",
                  "Handlebars",
                  "46.0900"
                ],
                [
                  "947",
                  "HL Touring Handlebars",
                  "Handlebars",
                  "91.5700"
                ],
                [
                  "808",
                  "LL Mountain Handlebars",
                  "Handlebars",
                  "44.5400"
                ],
                [
                  "809",
                  "ML Mountain Handlebars",
                  "Handlebars",
                  "61.9200"
                ],
                [
                  "810",
                  "HL Mountain Handlebars",
                  "Handlebars",
                  "120.2700"
                ],
                [
                  "811",
                  "LL Road Handlebars",
                  "Handlebars",
                  "44.5400"
                ],
                [
                  "812",
                  "ML Road Handlebars",
                  "Handlebars",
                  "61.9200"
                ],
                [
                  "813",
                  "HL Road Handlebars",
                  "Handlebars",
                  "120.2700"
                ],
                [
                  "994",
                  "LL Bottom Bracket",
                  "Bottom Brackets",
                  "53.9900"
                ],
                [
                  "995",
                  "ML Bottom Bracket",
                  "Bottom Brackets",
                  "101.2400"
                ],
                [
                  "996",
                  "HL Bottom Bracket",
                  "Bottom Brackets",
                  "121.4900"
                ],
                [
                  "948",
                  "Front Brakes",
                  "Brakes",
                  "106.5000"
                ],
                [
                  "907",
                  "Rear Brakes",
                  "Brakes",
                  "106.5000"
                ],
                [
                  "952",
                  "Chain",
                  "Chains",
                  "20.2400"
                ],
                [
                  "949",
                  "LL Crankset",
                  "Cranksets",
                  "175.4900"
                ],
                [
                  "950",
                  "ML Crankset",
                  "Cranksets",
                  "256.4900"
                ],
                [
                  "951",
                  "HL Crankset",
                  "Cranksets",
                  "404.9900"
                ],
                [
                  "945",
                  "Front Derailleur",
                  "Derailleurs",
                  "91.4900"
                ],
                [
                  "894",
                  "Rear Derailleur",
                  "Derailleurs",
                  "121.4600"
                ],
                [
                  "802",
                  "LL Fork",
                  "Forks",
                  "148.2200"
                ],
                [
                  "803",
                  "ML Fork",
                  "Forks",
                  "175.4900"
                ],
                [
                  "804",
                  "HL Fork",
                  "Forks",
                  "229.4900"
                ],
                [
                  "805",
                  "LL Headset",
                  "Headsets",
                  "34.2000"
                ],
                [
                  "806",
                  "ML Headset",
                  "Headsets",
                  "102.2900"
                ],
                [
                  "807",
                  "HL Headset",
                  "Headsets",
                  "124.7300"
                ],
                [
                  "739",
                  "HL Mountain Frame - Silver, 42",
                  "Mountain Frames",
                  "1364.5000"
                ],
                [
                  "740",
                  "HL Mountain Frame - Silver, 44",
                  "Mountain Frames",
                  "1364.5000"
                ],
                [
                  "741",
                  "HL Mountain Frame - Silver, 48",
                  "Mountain Frames",
                  "1364.5000"
                ],
                [
                  "742",
                  "HL Mountain Frame - Silver, 46",
                  "Mountain Frames",
                  "1364.5000"
                ],
                [
                  "743",
                  "HL Mountain Frame - Black, 42",
                  "Mountain Frames",
                  "1349.6000"
                ],
                [
                  "744",
                  "HL Mountain Frame - Black, 44",
                  "Mountain Frames",
                  "1349.6000"
                ],
                [
                  "745",
                  "HL Mountain Frame - Black, 48",
                  "Mountain Frames",
                  "1349.6000"
                ],
                [
                  "746",
                  "HL Mountain Frame - Black, 46",
                  "Mountain Frames",
                  "1349.6000"
                ],
                [
                  "747",
                  "HL Mountain Frame - Black, 38",
                  "Mountain Frames",
                  "1349.6000"
                ],
                [
                  "748",
                  "HL Mountain Frame - Silver, 38",
                  "Mountain Frames",
                  "1364.5000"
                ],
                [
                  "814",
                  "ML Mountain Frame - Black, 38",
                  "Mountain Frames",
                  "348.7600"
                ],
                [
                  "830",
                  "ML Mountain Frame - Black, 40",
                  "Mountain Frames",
                  "348.7600"
                ],
                [
                  "831",
                  "ML Mountain Frame - Black, 44",
                  "Mountain Frames",
                  "348.7600"
                ],
                [
                  "832",
                  "ML Mountain Frame - Black, 48",
                  "Mountain Frames",
                  "348.7600"
                ],
                [
                  "924",
                  "LL Mountain Frame - Black, 42",
                  "Mountain Frames",
                  "249.7900"
                ],
                [
                  "925",
                  "LL Mountain Frame - Black, 44",
                  "Mountain Frames",
                  "249.7900"
                ],
                [
                  "926",
                  "LL Mountain Frame - Black, 48",
                  "Mountain Frames",
                  "249.7900"
                ],
                [
                  "927",
                  "LL Mountain Frame - Black, 52",
                  "Mountain Frames",
                  "249.7900"
                ],
                [
                  "917",
                  "LL Mountain Frame - Silver, 42",
                  "Mountain Frames",
                  "264.0500"
                ],
                [
                  "918",
                  "LL Mountain Frame - Silver, 44",
                  "Mountain Frames",
                  "264.0500"
                ],
                [
                  "919",
                  "LL Mountain Frame - Silver, 48",
                  "Mountain Frames",
                  "264.0500"
                ],
                [
                  "920",
                  "LL Mountain Frame - Silver, 52",
                  "Mountain Frames",
                  "264.0500"
                ],
                [
                  "904",
                  "ML Mountain Frame-W - Silver, 40",
                  "Mountain Frames",
                  "364.0900"
                ],
                [
                  "905",
                  "ML Mountain Frame-W - Silver, 42",
                  "Mountain Frames",
                  "364.0900"
                ],
                [
                  "906",
                  "ML Mountain Frame-W - Silver, 46",
                  "Mountain Frames",
                  "364.0900"
                ],
                [
                  "942",
                  "ML Mountain Frame-W - Silver, 38",
                  "Mountain Frames",
                  "364.0900"
                ],
                [
                  "943",
                  "LL Mountain Frame - Black, 40",
                  "Mountain Frames",
                  "249.7900"
                ],
                [
                  "944",
                  "LL Mountain Frame - Silver, 40",
                  "Mountain Frames",
                  "264.0500"
                ],
                [
                  "935",
                  "LL Mountain Pedal",
                  "Pedals",
                  "40.4900"
                ],
                [
                  "936",
                  "ML Mountain Pedal",
                  "Pedals",
                  "62.0900"
                ],
                [
                  "937",
                  "HL Mountain Pedal",
                  "Pedals",
                  "80.9900"
                ],
                [
                  "938",
                  "LL Road Pedal",
                  "Pedals",
                  "40.4900"
                ],
                [
                  "939",
                  "ML Road Pedal",
                  "Pedals",
                  "62.0900"
                ],
                [
                  "940",
                  "HL Road Pedal",
                  "Pedals",
                  "80.9900"
                ],
                [
                  "941",
                  "Touring Pedal",
                  "Pedals",
                  "80.9900"
                ],
                [
                  "833",
                  "ML Road Frame-W - Yellow, 40",
                  "Road Frames",
                  "594.8300"
                ],
                [
                  "834",
                  "ML Road Frame-W - Yellow, 42",
                  "Road Frames",
                  "594.8300"
                ],
                [
                  "835",
                  "ML Road Frame-W - Yellow, 44",
                  "Road Frames",
                  "594.8300"
                ],
                [
                  "836",
                  "ML Road Frame-W - Yellow, 48",
                  "Road Frames",
                  "594.8300"
                ],
                [
                  "837",
                  "HL Road Frame - Black, 62",
                  "Road Frames",
                  "1431.5000"
                ],
                [
                  "838",
                  "HL Road Frame - Black, 44",
                  "Road Frames",
                  "1431.5000"
                ],
                [
                  "839",
                  "HL Road Frame - Black, 48",
                  "Road Frames",
                  "1431.5000"
                ],
                [
                  "840",
                  "HL Road Frame - Black, 52",
                  "Road Frames",
                  "1431.5000"
                ],
                [
                  "822",
                  "ML Road Frame-W - Yellow, 38",
                  "Road Frames",
                  "594.8300"
                ],
                [
                  "680",
                  "HL Road Frame - Black, 58",
                  "Road Frames",
                  "1431.5000"
                ],
                [
                  "706",
                  "HL Road Frame - Red, 58",
                  "Road Frames",
                  "1431.5000"
                ],
                [
                  "717",
                  "HL Road Frame - Red, 62",
                  "Road Frames",
                  "1431.5000"
                ],
                [
                  "718",
                  "HL Road Frame - Red, 44",
                  "Road Frames",
                  "1431.5000"
                ],
                [
                  "719",
                  "HL Road Frame - Red, 48",
                  "Road Frames",
                  "1431.5000"
                ],
                [
                  "720",
                  "HL Road Frame - Red, 52",
                  "Road Frames",
                  "1431.5000"
                ],
                [
                  "721",
                  "HL Road Frame - Red, 56",
                  "Road Frames",
                  "1431.5000"
                ],
                [
                  "722",
                  "LL Road Frame - Black, 58",
                  "Road Frames",
                  "337.2200"
                ],
                [
                  "723",
                  "LL Road Frame - Black, 60",
                  "Road Frames",
                  "337.2200"
                ],
                [
                  "724",
                  "LL Road Frame - Black, 62",
                  "Road Frames",
                  "337.2200"
                ],
                [
                  "725",
                  "LL Road Frame - Red, 44",
                  "Road Frames",
                  "337.2200"
                ],
                [
                  "726",
                  "LL Road Frame - Red, 48",
                  "Road Frames",
                  "337.2200"
                ],
                [
                  "727",
                  "LL Road Frame - Red, 52",
                  "Road Frames",
                  "337.2200"
                ],
                [
                  "728",
                  "LL Road Frame - Red, 58",
                  "Road Frames",
                  "337.2200"
                ],
                [
                  "729",
                  "LL Road Frame - Red, 60",
                  "Road Frames",
                  "337.2200"
                ],
                [
                  "730",
                  "LL Road Frame - Red, 62",
                  "Road Frames",
                  "337.2200"
                ],
                [
                  "731",
                  "ML Road Frame - Red, 44",
                  "Road Frames",
                  "594.8300"
                ],
                [
                  "732",
                  "ML Road Frame - Red, 48",
                  "Road Frames",
                  "594.8300"
                ],
                [
                  "733",
                  "ML Road Frame - Red, 52",
                  "Road Frames",
                  "594.8300"
                ],
                [
                  "734",
                  "ML Road Frame - Red, 58",
                  "Road Frames",
                  "594.8300"
                ],
                [
                  "735",
                  "ML Road Frame - Red, 60",
                  "Road Frames",
                  "594.8300"
                ],
                [
                  "736",
                  "LL Road Frame - Black, 44",
                  "Road Frames",
                  "337.2200"
                ],
                [
                  "737",
                  "LL Road Frame - Black, 48",
                  "Road Frames",
                  "337.2200"
                ],
                [
                  "738",
                  "LL Road Frame - Black, 52",
                  "Road Frames",
                  "337.2200"
                ],
                [
                  "908",
                  "LL Mountain Seat/Saddle",
                  "Saddles",
                  "27.1200"
                ],
                [
                  "909",
                  "ML Mountain Seat/Saddle",
                  "Saddles",
                  "39.1400"
                ],
                [
                  "910",
                  "HL Mountain Seat/Saddle",
                  "Saddles",
                  "52.6400"
                ],
                [
                  "911",
                  "LL Road Seat/Saddle",
                  "Saddles",
                  "27.1200"
                ],
                [
                  "912",
                  "ML Road Seat/Saddle",
                  "Saddles",
                  "39.1400"
                ],
                [
                  "913",
                  "HL Road Seat/Saddle",
                  "Saddles",
                  "52.6400"
                ],
                [
                  "914",
                  "LL Touring Seat/Saddle",
                  "Saddles",
                  "27.1200"
                ],
                [
                  "915",
                  "ML Touring Seat/Saddle",
                  "Saddles",
                  "39.1400"
                ],
                [
                  "916",
                  "HL Touring Seat/Saddle",
                  "Saddles",
                  "52.6400"
                ],
                [
                  "895",
                  "LL Touring Frame - Blue, 50",
                  "Touring Frames",
                  "333.4200"
                ],
                [
                  "896",
                  "LL Touring Frame - Blue, 54",
                  "Touring Frames",
                  "333.4200"
                ],
                [
                  "897",
                  "LL Touring Frame - Blue, 58",
                  "Touring Frames",
                  "333.4200"
                ],
                [
                  "898",
                  "LL Touring Frame - Blue, 62",
                  "Touring Frames",
                  "333.4200"
                ],
                [
                  "899",
                  "LL Touring Frame - Yellow, 44",
                  "Touring Frames",
                  "333.4200"
                ],
                [
                  "900",
                  "LL Touring Frame - Yellow, 50",
                  "Touring Frames",
                  "333.4200"
                ],
                [
                  "901",
                  "LL Touring Frame - Yellow, 54",
                  "Touring Frames",
                  "333.4200"
                ],
                [
                  "902",
                  "LL Touring Frame - Yellow, 58",
                  "Touring Frames",
                  "333.4200"
                ],
                [
                  "903",
                  "LL Touring Frame - Blue, 44",
                  "Touring Frames",
                  "333.4200"
                ],
                [
                  "885",
                  "HL Touring Frame - Yellow, 60",
                  "Touring Frames",
                  "1003.9100"
                ],
                [
                  "886",
                  "LL Touring Frame - Yellow, 62",
                  "Touring Frames",
                  "333.4200"
                ],
                [
                  "887",
                  "HL Touring Frame - Yellow, 46",
                  "Touring Frames",
                  "1003.9100"
                ],
                [
                  "888",
                  "HL Touring Frame - Yellow, 50",
                  "Touring Frames",
                  "1003.9100"
                ],
                [
                  "889",
                  "HL Touring Frame - Yellow, 54",
                  "Touring Frames",
                  "1003.9100"
                ],
                [
                  "890",
                  "HL Touring Frame - Blue, 46",
                  "Touring Frames",
                  "1003.9100"
                ],
                [
                  "891",
                  "HL Touring Frame - Blue, 50",
                  "Touring Frames",
                  "1003.9100"
                ],
                [
                  "892",
                  "HL Touring Frame - Blue, 54",
                  "Touring Frames",
                  "1003.9100"
                ],
                [
                  "893",
                  "HL Touring Frame - Blue, 60",
                  "Touring Frames",
                  "1003.9100"
                ],
                [
                  "823",
                  "LL Mountain Rear Wheel",
                  "Wheels",
                  "87.7450"
                ],
                [
                  "824",
                  "ML Mountain Rear Wheel",
                  "Wheels",
                  "236.0250"
                ],
                [
                  "825",
                  "HL Mountain Rear Wheel",
                  "Wheels",
                  "327.2150"
                ],
                [
                  "826",
                  "LL Road Rear Wheel",
                  "Wheels",
                  "112.5650"
                ],
                [
                  "827",
                  "ML Road Rear Wheel",
                  "Wheels",
                  "275.3850"
                ],
                [
                  "828",
                  "HL Road Rear Wheel",
                  "Wheels",
                  "357.0600"
                ],
                [
                  "829",
                  "Touring Rear Wheel",
                  "Wheels",
                  "245.0100"
                ],
                [
                  "815",
                  "LL Mountain Front Wheel",
                  "Wheels",
                  "60.7450"
                ],
                [
                  "816",
                  "ML Mountain Front Wheel",
                  "Wheels",
                  "209.0250"
                ],
                [
                  "817",
                  "HL Mountain Front Wheel",
                  "Wheels",
                  "300.2150"
                ],
                [
                  "818",
                  "LL Road Front Wheel",
                  "Wheels",
                  "85.5650"
                ],
                [
                  "819",
                  "ML Road Front Wheel",
                  "Wheels",
                  "248.3850"
                ],
                [
                  "820",
                  "HL Road Front Wheel",
                  "Wheels",
                  "330.0600"
                ],
                [
                  "821",
                  "Touring Front Wheel",
                  "Wheels",
                  "218.0100"
                ],
                [
                  "855",
                  "Men's Bib-Shorts, S",
                  "Bib-Shorts",
                  "89.9900"
                ],
                [
                  "856",
                  "Men's Bib-Shorts, M",
                  "Bib-Shorts",
                  "89.9900"
                ],
                [
                  "857",
                  "Men's Bib-Shorts, L",
                  "Bib-Shorts",
                  "89.9900"
                ],
                [
                  "712",
                  "AWC Logo Cap",
                  "Caps",
                  "8.9900"
                ],
                [
                  "858",
                  "Half-Finger Gloves, S",
                  "Gloves",
                  "24.4900"
                ],
                [
                  "859",
                  "Half-Finger Gloves, M",
                  "Gloves",
                  "24.4900"
                ],
                [
                  "860",
                  "Half-Finger Gloves, L",
                  "Gloves",
                  "24.4900"
                ],
                [
                  "861",
                  "Full-Finger Gloves, S",
                  "Gloves",
                  "37.9900"
                ],
                [
                  "862",
                  "Full-Finger Gloves, M",
                  "Gloves",
                  "37.9900"
                ],
                [
                  "863",
                  "Full-Finger Gloves, L",
                  "Gloves",
                  "37.9900"
                ],
                [
                  "713",
                  "Long-Sleeve Logo Jersey, S",
                  "Jerseys",
                  "49.9900"
                ],
                [
                  "714",
                  "Long-Sleeve Logo Jersey, M",
                  "Jerseys",
                  "49.9900"
                ],
                [
                  "715",
                  "Long-Sleeve Logo Jersey, L",
                  "Jerseys",
                  "49.9900"
                ],
                [
                  "716",
                  "Long-Sleeve Logo Jersey, XL",
                  "Jerseys",
                  "49.9900"
                ],
                [
                  "881",
                  "Short-Sleeve Classic Jersey, S",
                  "Jerseys",
                  "53.9900"
                ],
                [
                  "882",
                  "Short-Sleeve Classic Jersey, M",
                  "Jerseys",
                  "53.9900"
                ],
                [
                  "883",
                  "Short-Sleeve Classic Jersey, L",
                  "Jerseys",
                  "53.9900"
                ],
                [
                  "884",
                  "Short-Sleeve Classic Jersey, XL",
                  "Jerseys",
                  "53.9900"
                ],
                [
                  "867",
                  "Women's Mountain Shorts, S",
                  "Shorts",
                  "69.9900"
                ],
                [
                  "868",
                  "Women's Mountain Shorts, M",
                  "Shorts",
                  "69.9900"
                ],
                [
                  "869",
                  "Women's Mountain Shorts, L",
                  "Shorts",
                  "69.9900"
                ],
                [
                  "841",
                  "Men's Sports Shorts, S",
                  "Shorts",
                  "59.9900"
                ],
                [
                  "849",
                  "Men's Sports Shorts, M",
                  "Shorts",
                  "59.9900"
                ],
                [
                  "850",
                  "Men's Sports Shorts, L",
                  "Shorts",
                  "59.9900"
                ],
                [
                  "851",
                  "Men's Sports Shorts, XL",
                  "Shorts",
                  "59.9900"
                ],
                [
                  "709",
                  "Mountain Bike Socks, M",
                  "Socks",
                  "9.5000"
                ],
                [
                  "710",
                  "Mountain Bike Socks, L",
                  "Socks",
                  "9.5000"
                ],
                [
                  "874",
                  "Racing Socks, M",
                  "Socks",
                  "8.9900"
                ],
                [
                  "875",
                  "Racing Socks, L",
                  "Socks",
                  "8.9900"
                ],
                [
                  "852",
                  "Women's Tights, S",
                  "Tights",
                  "74.9900"
                ],
                [
                  "853",
                  "Women's Tights, M",
                  "Tights",
                  "74.9900"
                ],
                [
                  "854",
                  "Women's Tights, L",
                  "Tights",
                  "74.9900"
                ],
                [
                  "864",
                  "Classic Vest, S",
                  "Vests",
                  "63.5000"
                ],
                [
                  "865",
                  "Classic Vest, M",
                  "Vests",
                  "63.5000"
                ],
                [
                  "866",
                  "Classic Vest, L",
                  "Vests",
                  "63.5000"
                ],
                [
                  "876",
                  "Hitch Rack - 4-Bike",
                  "Bike Racks",
                  "120.0000"
                ],
                [
                  "879",
                  "All-Purpose Bike Stand",
                  "Bike Stands",
                  "159.0000"
                ],
                [
                  "870",
                  "Water Bottle - 30 oz.",
                  "Bottles and Cages",
                  "4.9900"
                ],
                [
                  "871",
                  "Mountain Bottle Cage",
                  "Bottles and Cages",
                  "9.9900"
                ],
                [
                  "872",
                  "Road Bottle Cage",
                  "Bottles and Cages",
                  "8.9900"
                ],
                [
                  "877",
                  "Bike Wash - Dissolver",
                  "Cleaners",
                  "7.9500"
                ],
                [
                  "878",
                  "Fender Set - Mountain",
                  "Fenders",
                  "21.9800"
                ],
                [
                  "711",
                  "Sport-100 Helmet, Blue",
                  "Helmets",
                  "34.9900"
                ],
                [
                  "707",
                  "Sport-100 Helmet, Red",
                  "Helmets",
                  "34.9900"
                ],
                [
                  "708",
                  "Sport-100 Helmet, Black",
                  "Helmets",
                  "34.9900"
                ],
                [
                  "880",
                  "Hydration Pack - 70 oz.",
                  "Hydration Packs",
                  "54.9900"
                ],
                [
                  "846",
                  "Taillights - Battery-Powered",
                  "Lights",
                  "13.9900"
                ],
                [
                  "847",
                  "Headlights - Dual-Beam",
                  "Lights",
                  "34.9900"
                ],
                [
                  "848",
                  "Headlights - Weatherproof",
                  "Lights",
                  "44.9900"
                ],
                [
                  "843",
                  "Cable Lock",
                  "Locks",
                  "25.0000"
                ],
                [
                  "842",
                  "Touring-Panniers, Large",
                  "Panniers",
                  "125.0000"
                ],
                [
                  "844",
                  "Minipump",
                  "Pumps",
                  "19.9900"
                ],
                [
                  "845",
                  "Mountain Pump",
                  "Pumps",
                  "24.9900"
                ],
                [
                  "873",
                  "Patch Kit/8 Patches",
                  "Tires and Tubes",
                  "2.2900"
                ],
                [
                  "921",
                  "Mountain Tire Tube",
                  "Tires and Tubes",
                  "4.9900"
                ],
                [
                  "922",
                  "Road Tire Tube",
                  "Tires and Tubes",
                  "3.9900"
                ],
                [
                  "923",
                  "Touring Tire Tube",
                  "Tires and Tubes",
                  "4.9900"
                ],
                [
                  "928",
                  "LL Mountain Tire",
                  "Tires and Tubes",
                  "24.9900"
                ],
                [
                  "929",
                  "ML Mountain Tire",
                  "Tires and Tubes",
                  "29.9900"
                ],
                [
                  "930",
                  "HL Mountain Tire",
                  "Tires and Tubes",
                  "35.0000"
                ],
                [
                  "931",
                  "LL Road Tire",
                  "Tires and Tubes",
                  "21.4900"
                ],
                [
                  "932",
                  "ML Road Tire",
                  "Tires and Tubes",
                  "24.9900"
                ],
                [
                  "933",
                  "HL Road Tire",
                  "Tires and Tubes",
                  "32.6000"
                ],
                [
                  "934",
                  "Touring Tire",
                  "Tires and Tubes",
                  "28.9900"
                ]
              ]
            },
            "text/plain": "<Spark SQL result set with 295 rows and 4 fields>"
          },
          "execution_count": 16,
          "metadata": {}
        }
      ],
      "metadata": {
        "jupyter": {
          "source_hidden": false,
          "outputs_hidden": false
        },
        "nteract": {
          "transient": {
            "deleting": false
          }
        },
        "collapsed": false
      },
      "source": [
        " %%sql\n",
        "\n",
        " USE AdventureWorks;\n",
        "\n",
        " SELECT * FROM Products;"
      ]
    },
    {
      "cell_type": "code",
      "execution_count": 17,
      "outputs": [
        {
          "output_type": "display_data",
          "data": {
            "application/vnd.livy.statement-meta+json": {
              "spark_pool": "sparkmwdvy04",
              "statement_id": 25,
              "statement_ids": [
                25
              ],
              "state": "finished",
              "livy_statement_state": "available",
              "spark_jobs": null,
              "session_id": "0",
              "normalized_state": "finished",
              "queued_time": "2024-08-25T05:34:00.3537665Z",
              "session_start_time": null,
              "execution_start_time": "2024-08-25T05:34:00.5937703Z",
              "execution_finish_time": "2024-08-25T05:34:01.166679Z",
              "parent_msg_id": "6608c4c7-6252-407e-9f72-7f3303615f86"
            },
            "text/plain": "StatementMeta(sparkmwdvy04, 0, 25, Finished, Available, Finished)"
          },
          "metadata": {}
        },
        {
          "output_type": "stream",
          "name": "stdout",
          "text": [
            "Source stream created...\n"
          ]
        }
      ],
      "metadata": {
        "jupyter": {
          "source_hidden": false,
          "outputs_hidden": false
        },
        "nteract": {
          "transient": {
            "deleting": false
          }
        }
      },
      "source": [
        " from notebookutils import mssparkutils\n",
        " from pyspark.sql.types import *\n",
        " from pyspark.sql.functions import *\n",
        "\n",
        " # Create a folder\n",
        " inputPath = '/data/'\n",
        " mssparkutils.fs.mkdirs(inputPath)\n",
        "\n",
        " # Create a stream that reads data from the folder, using a JSON schema\n",
        " jsonSchema = StructType([\n",
        " StructField(\"device\", StringType(), False),\n",
        " StructField(\"status\", StringType(), False)\n",
        " ])\n",
        " iotstream = spark.readStream.schema(jsonSchema).option(\"maxFilesPerTrigger\", 1).json(inputPath)\n",
        "\n",
        " # Write some event data to the folder\n",
        " device_data = '''{\"device\":\"Dev1\",\"status\":\"ok\"}\n",
        " {\"device\":\"Dev1\",\"status\":\"ok\"}\n",
        " {\"device\":\"Dev1\",\"status\":\"ok\"}\n",
        " {\"device\":\"Dev2\",\"status\":\"error\"}\n",
        " {\"device\":\"Dev1\",\"status\":\"ok\"}\n",
        " {\"device\":\"Dev1\",\"status\":\"error\"}\n",
        " {\"device\":\"Dev2\",\"status\":\"ok\"}\n",
        " {\"device\":\"Dev2\",\"status\":\"error\"}\n",
        " {\"device\":\"Dev1\",\"status\":\"ok\"}'''\n",
        " mssparkutils.fs.put(inputPath + \"data.txt\", device_data, True)\n",
        " print(\"Source stream created...\")"
      ]
    },
    {
      "cell_type": "code",
      "execution_count": 18,
      "outputs": [
        {
          "output_type": "display_data",
          "data": {
            "application/vnd.livy.statement-meta+json": {
              "spark_pool": "sparkmwdvy04",
              "statement_id": 26,
              "statement_ids": [
                26
              ],
              "state": "finished",
              "livy_statement_state": "available",
              "spark_jobs": null,
              "session_id": "0",
              "normalized_state": "finished",
              "queued_time": "2024-08-25T05:35:00.7429664Z",
              "session_start_time": null,
              "execution_start_time": "2024-08-25T05:35:00.9124852Z",
              "execution_finish_time": "2024-08-25T05:35:02.0846466Z",
              "parent_msg_id": "f564b9ac-c2dc-46d0-9177-4eb4e875434f"
            },
            "text/plain": "StatementMeta(sparkmwdvy04, 0, 26, Finished, Available, Finished)"
          },
          "metadata": {}
        },
        {
          "output_type": "stream",
          "name": "stdout",
          "text": [
            "Streaming to delta sink...\n"
          ]
        }
      ],
      "metadata": {
        "jupyter": {
          "source_hidden": false,
          "outputs_hidden": false
        },
        "nteract": {
          "transient": {
            "deleting": false
          }
        }
      },
      "source": [
        " # Write the stream to a delta table\n",
        " delta_stream_table_path = '/delta/iotdevicedata'\n",
        " checkpointpath = '/delta/checkpoint'\n",
        " deltastream = iotstream.writeStream.format(\"delta\").option(\"checkpointLocation\", checkpointpath).start(delta_stream_table_path)\n",
        " print(\"Streaming to delta sink...\")"
      ]
    },
    {
      "cell_type": "code",
      "execution_count": 19,
      "outputs": [
        {
          "output_type": "display_data",
          "data": {
            "application/vnd.livy.statement-meta+json": {
              "spark_pool": "sparkmwdvy04",
              "statement_id": 27,
              "statement_ids": [
                27
              ],
              "state": "finished",
              "livy_statement_state": "available",
              "spark_jobs": null,
              "session_id": "0",
              "normalized_state": "finished",
              "queued_time": "2024-08-25T05:35:17.2775718Z",
              "session_start_time": null,
              "execution_start_time": "2024-08-25T05:35:17.4256275Z",
              "execution_finish_time": "2024-08-25T05:35:19.3426687Z",
              "parent_msg_id": "84aeb241-55ed-4191-95e8-7c0f65e46a8a"
            },
            "text/plain": "StatementMeta(sparkmwdvy04, 0, 27, Finished, Available, Finished)"
          },
          "metadata": {}
        },
        {
          "output_type": "display_data",
          "data": {
            "application/vnd.synapse.widget-view+json": {
              "widget_id": "7c4cdfcc-f948-46a1-a873-3a555c1ee84f",
              "widget_type": "Synapse.DataFrame"
            },
            "text/plain": "SynapseWidget(Synapse.DataFrame, 7c4cdfcc-f948-46a1-a873-3a555c1ee84f)"
          },
          "metadata": {}
        }
      ],
      "metadata": {
        "jupyter": {
          "source_hidden": false,
          "outputs_hidden": false
        },
        "nteract": {
          "transient": {
            "deleting": false
          }
        },
        "collapsed": false
      },
      "source": [
        " # Read the data in delta format into a dataframe\n",
        " df = spark.read.format(\"delta\").load(delta_stream_table_path)\n",
        " display(df)"
      ]
    },
    {
      "cell_type": "code",
      "execution_count": 20,
      "outputs": [
        {
          "output_type": "display_data",
          "data": {
            "application/vnd.livy.statement-meta+json": {
              "spark_pool": "sparkmwdvy04",
              "statement_id": 28,
              "statement_ids": [
                28
              ],
              "state": "finished",
              "livy_statement_state": "available",
              "spark_jobs": null,
              "session_id": "0",
              "normalized_state": "finished",
              "queued_time": "2024-08-25T05:36:26.2985347Z",
              "session_start_time": null,
              "execution_start_time": "2024-08-25T05:36:26.4932757Z",
              "execution_finish_time": "2024-08-25T05:36:29.4410266Z",
              "parent_msg_id": "60fae064-78f8-4fc3-b43b-51105bf3165e"
            },
            "text/plain": "StatementMeta(sparkmwdvy04, 0, 28, Finished, Available, Finished)"
          },
          "metadata": {}
        },
        {
          "output_type": "execute_result",
          "data": {
            "text/plain": "DataFrame[]"
          },
          "execution_count": 31,
          "metadata": {}
        }
      ],
      "metadata": {
        "jupyter": {
          "source_hidden": false,
          "outputs_hidden": false
        },
        "nteract": {
          "transient": {
            "deleting": false
          }
        }
      },
      "source": [
        " # create a catalog table based on the streaming sink\n",
        " spark.sql(\"CREATE TABLE IotDeviceData USING DELTA LOCATION '{0}'\".format(delta_stream_table_path))"
      ]
    },
    {
      "cell_type": "code",
      "execution_count": 21,
      "outputs": [
        {
          "output_type": "display_data",
          "data": {
            "application/vnd.livy.statement-meta+json": {
              "spark_pool": "sparkmwdvy04",
              "statement_id": 29,
              "statement_ids": [
                29
              ],
              "state": "finished",
              "livy_statement_state": "available",
              "spark_jobs": null,
              "session_id": "0",
              "normalized_state": "finished",
              "queued_time": "2024-08-25T05:36:42.5319147Z",
              "session_start_time": null,
              "execution_start_time": "2024-08-25T05:36:42.6928783Z",
              "execution_finish_time": "2024-08-25T05:36:44.6331418Z",
              "parent_msg_id": "4bdc16df-d3d6-4fc7-8a0c-0608cbe3218e"
            },
            "text/plain": "StatementMeta(sparkmwdvy04, 0, 29, Finished, Available, Finished)"
          },
          "metadata": {}
        },
        {
          "output_type": "execute_result",
          "data": {
            "application/vnd.synapse.sparksql-result+json": {
              "schema": {
                "type": "struct",
                "fields": [
                  {
                    "name": "device",
                    "type": "string",
                    "nullable": true,
                    "metadata": {}
                  },
                  {
                    "name": "status",
                    "type": "string",
                    "nullable": true,
                    "metadata": {}
                  }
                ]
              },
              "data": [
                [
                  "Dev1",
                  "ok"
                ],
                [
                  "Dev1",
                  "ok"
                ],
                [
                  "Dev1",
                  "ok"
                ],
                [
                  "Dev2",
                  "error"
                ],
                [
                  "Dev1",
                  "ok"
                ],
                [
                  "Dev1",
                  "error"
                ],
                [
                  "Dev2",
                  "ok"
                ],
                [
                  "Dev2",
                  "error"
                ],
                [
                  "Dev1",
                  "ok"
                ]
              ]
            },
            "text/plain": "<Spark SQL result set with 9 rows and 2 fields>"
          },
          "execution_count": 21,
          "metadata": {}
        }
      ],
      "metadata": {
        "jupyter": {
          "source_hidden": false,
          "outputs_hidden": false
        },
        "nteract": {
          "transient": {
            "deleting": false
          }
        },
        "collapsed": false
      },
      "source": [
        " %%sql\n",
        "\n",
        " SELECT * FROM IotDeviceData;"
      ]
    },
    {
      "cell_type": "code",
      "execution_count": 22,
      "outputs": [
        {
          "output_type": "display_data",
          "data": {
            "application/vnd.livy.statement-meta+json": {
              "spark_pool": "sparkmwdvy04",
              "statement_id": 30,
              "statement_ids": [
                30
              ],
              "state": "finished",
              "livy_statement_state": "available",
              "spark_jobs": null,
              "session_id": "0",
              "normalized_state": "finished",
              "queued_time": "2024-08-25T05:37:05.0571615Z",
              "session_start_time": null,
              "execution_start_time": "2024-08-25T05:37:05.2049059Z",
              "execution_finish_time": "2024-08-25T05:37:05.7909704Z",
              "parent_msg_id": "884d9457-4b25-484b-a277-f97e83c5117b"
            },
            "text/plain": "StatementMeta(sparkmwdvy04, 0, 30, Finished, Available, Finished)"
          },
          "metadata": {}
        },
        {
          "output_type": "execute_result",
          "data": {
            "text/plain": "True"
          },
          "execution_count": 33,
          "metadata": {}
        }
      ],
      "metadata": {
        "jupyter": {
          "source_hidden": false,
          "outputs_hidden": false
        },
        "nteract": {
          "transient": {
            "deleting": false
          }
        }
      },
      "source": [
        " # Add more data to the source stream\n",
        " more_data = '''{\"device\":\"Dev1\",\"status\":\"ok\"}\n",
        " {\"device\":\"Dev1\",\"status\":\"ok\"}\n",
        " {\"device\":\"Dev1\",\"status\":\"ok\"}\n",
        " {\"device\":\"Dev1\",\"status\":\"ok\"}\n",
        " {\"device\":\"Dev1\",\"status\":\"error\"}\n",
        " {\"device\":\"Dev2\",\"status\":\"error\"}\n",
        " {\"device\":\"Dev1\",\"status\":\"ok\"}'''\n",
        "\n",
        " mssparkutils.fs.put(inputPath + \"more-data.txt\", more_data, True)"
      ]
    },
    {
      "cell_type": "code",
      "execution_count": 23,
      "outputs": [
        {
          "output_type": "display_data",
          "data": {
            "application/vnd.livy.statement-meta+json": {
              "spark_pool": "sparkmwdvy04",
              "statement_id": 31,
              "statement_ids": [
                31
              ],
              "state": "finished",
              "livy_statement_state": "available",
              "spark_jobs": null,
              "session_id": "0",
              "normalized_state": "finished",
              "queued_time": "2024-08-25T05:37:13.7022507Z",
              "session_start_time": null,
              "execution_start_time": "2024-08-25T05:37:13.8847776Z",
              "execution_finish_time": "2024-08-25T05:37:16.7907372Z",
              "parent_msg_id": "e4ca9873-4ea2-4348-83ec-55f7def25ba8"
            },
            "text/plain": "StatementMeta(sparkmwdvy04, 0, 31, Finished, Available, Finished)"
          },
          "metadata": {}
        },
        {
          "output_type": "execute_result",
          "data": {
            "application/vnd.synapse.sparksql-result+json": {
              "schema": {
                "type": "struct",
                "fields": [
                  {
                    "name": "device",
                    "type": "string",
                    "nullable": true,
                    "metadata": {}
                  },
                  {
                    "name": "status",
                    "type": "string",
                    "nullable": true,
                    "metadata": {}
                  }
                ]
              },
              "data": [
                [
                  "Dev1",
                  "ok"
                ],
                [
                  "Dev1",
                  "ok"
                ],
                [
                  "Dev1",
                  "ok"
                ],
                [
                  "Dev2",
                  "error"
                ],
                [
                  "Dev1",
                  "ok"
                ],
                [
                  "Dev1",
                  "error"
                ],
                [
                  "Dev2",
                  "ok"
                ],
                [
                  "Dev2",
                  "error"
                ],
                [
                  "Dev1",
                  "ok"
                ],
                [
                  "Dev1",
                  "ok"
                ],
                [
                  "Dev1",
                  "ok"
                ],
                [
                  "Dev1",
                  "ok"
                ],
                [
                  "Dev1",
                  "ok"
                ],
                [
                  "Dev1",
                  "error"
                ],
                [
                  "Dev2",
                  "error"
                ],
                [
                  "Dev1",
                  "ok"
                ]
              ]
            },
            "text/plain": "<Spark SQL result set with 16 rows and 2 fields>"
          },
          "execution_count": 23,
          "metadata": {}
        }
      ],
      "metadata": {
        "jupyter": {
          "source_hidden": false,
          "outputs_hidden": false
        },
        "nteract": {
          "transient": {
            "deleting": false
          }
        },
        "collapsed": false
      },
      "source": [
        " %%sql\n",
        "\n",
        " SELECT * FROM IotDeviceData;"
      ]
    },
    {
      "cell_type": "code",
      "execution_count": 24,
      "outputs": [
        {
          "output_type": "display_data",
          "data": {
            "application/vnd.livy.statement-meta+json": {
              "spark_pool": "sparkmwdvy04",
              "statement_id": 32,
              "statement_ids": [
                32
              ],
              "state": "finished",
              "livy_statement_state": "available",
              "spark_jobs": null,
              "session_id": "0",
              "normalized_state": "finished",
              "queued_time": "2024-08-25T05:37:45.024931Z",
              "session_start_time": null,
              "execution_start_time": "2024-08-25T05:37:45.1880431Z",
              "execution_finish_time": "2024-08-25T05:37:45.3735471Z",
              "parent_msg_id": "081127cb-3610-4ae6-9dc1-2a69865aec6c"
            },
            "text/plain": "StatementMeta(sparkmwdvy04, 0, 32, Finished, Available, Finished)"
          },
          "metadata": {}
        }
      ],
      "metadata": {
        "jupyter": {
          "source_hidden": false,
          "outputs_hidden": false
        },
        "nteract": {
          "transient": {
            "deleting": false
          }
        }
      },
      "source": [
        " deltastream.stop()"
      ]
    },
    {
      "cell_type": "code",
      "execution_count": 25,
      "outputs": [
        {
          "output_type": "display_data",
          "data": {
            "application/vnd.livy.statement-meta+json": {
              "spark_pool": "sparkmwdvy04",
              "statement_id": 33,
              "statement_ids": [
                33
              ],
              "state": "finished",
              "livy_statement_state": "available",
              "spark_jobs": null,
              "session_id": "0",
              "normalized_state": "finished",
              "queued_time": "2024-08-25T05:38:19.1107081Z",
              "session_start_time": null,
              "execution_start_time": "2024-08-25T05:38:19.2777618Z",
              "execution_finish_time": "2024-08-25T05:38:19.8754305Z",
              "parent_msg_id": "bcbdb0b1-fce3-470e-ba90-9a4dbb5d3955"
            },
            "text/plain": "StatementMeta(sparkmwdvy04, 0, 33, Finished, Available, Finished)"
          },
          "metadata": {}
        },
        {
          "output_type": "stream",
          "name": "stdout",
          "text": [
            "Streaming to delta sink...\n"
          ]
        }
      ],
      "metadata": {
        "jupyter": {
          "source_hidden": false,
          "outputs_hidden": false
        },
        "nteract": {
          "transient": {
            "deleting": false
          }
        }
      },
      "source": [
        " deltastream = iotstream.writeStream.format(\"delta\").option(\"checkpointLocation\", checkpointpath).start(delta_stream_table_path)\n",
        " print(\"Streaming to delta sink...\")"
      ]
    },
    {
      "cell_type": "code",
      "execution_count": 26,
      "outputs": [
        {
          "output_type": "display_data",
          "data": {
            "application/vnd.livy.statement-meta+json": {
              "spark_pool": "sparkmwdvy04",
              "statement_id": 34,
              "statement_ids": [
                34
              ],
              "state": "finished",
              "livy_statement_state": "available",
              "spark_jobs": null,
              "session_id": "0",
              "normalized_state": "finished",
              "queued_time": "2024-08-25T05:41:46.3758836Z",
              "session_start_time": null,
              "execution_start_time": "2024-08-25T05:41:46.559719Z",
              "execution_finish_time": "2024-08-25T05:41:47.13955Z",
              "parent_msg_id": "89e9aab5-8188-4948-822e-fccf39b14387"
            },
            "text/plain": "StatementMeta(sparkmwdvy04, 0, 34, Finished, Available, Finished)"
          },
          "metadata": {}
        },
        {
          "output_type": "execute_result",
          "data": {
            "text/plain": "True"
          },
          "execution_count": 39,
          "metadata": {}
        }
      ],
      "metadata": {
        "jupyter": {
          "source_hidden": false,
          "outputs_hidden": false
        },
        "nteract": {
          "transient": {
            "deleting": false
          }
        }
      },
      "source": [
        " # Add more data to the source stream\n",
        " more_data2 = '''{\"device\":\"Dev1\",\"status\":\"ok\"}\n",
        " {\"device\":\"Dev3\",\"status\":\"ok\"}\n",
        " {\"device\":\"Dev3\",\"status\":\"ok\"}'''\n",
        "\n",
        " mssparkutils.fs.put(inputPath + \"more-data2.txt\", more_data2, True)"
      ]
    },
    {
      "cell_type": "code",
      "execution_count": null,
      "outputs": [],
      "metadata": {
        "jupyter": {
          "source_hidden": false,
          "outputs_hidden": false
        },
        "nteract": {
          "transient": {
            "deleting": false
          }
        }
      },
      "source": []
    }
  ]
}